{
  "nbformat": 4,
  "nbformat_minor": 0,
  "metadata": {
    "colab": {
      "provenance": [],
      "authorship_tag": "ABX9TyO6pRDdM2Ob7wsRAs3gHX8K",
      "include_colab_link": true
    },
    "kernelspec": {
      "name": "python3",
      "display_name": "Python 3"
    },
    "language_info": {
      "name": "python"
    }
  },
  "cells": [
    {
      "cell_type": "markdown",
      "metadata": {
        "id": "view-in-github",
        "colab_type": "text"
      },
      "source": [
        "<a href=\"https://colab.research.google.com/github/apurvasinhaa/html-portfolio/blob/main/13_FakeNews.ipynb\" target=\"_parent\"><img src=\"https://colab.research.google.com/assets/colab-badge.svg\" alt=\"Open In Colab\"/></a>"
      ]
    },
    {
      "cell_type": "markdown",
      "source": [
        "About the Dataset\n",
        "\n",
        "id: unique id for news article\n",
        "\n",
        "title: the title of a news article\n",
        "\n",
        "author: author of the new article\n",
        "\n",
        "text: the text of the article, could be incomplete\n",
        "\n",
        "label:a label that marks whether the news article is real or fake\n",
        "1--> Fake news 2--> Real news"
      ],
      "metadata": {
        "id": "3mZ_7DwAxjyz"
      }
    },
    {
      "cell_type": "markdown",
      "source": [
        "Importing the Dependencies"
      ],
      "metadata": {
        "id": "r0uQLywglGOW"
      }
    },
    {
      "cell_type": "markdown",
      "source": [
        "re- regular expression\n",
        "\n",
        "nltk- natural language tool kit\n",
        "\n"
      ],
      "metadata": {
        "id": "DpRdOMkMVp2N"
      }
    },
    {
      "cell_type": "code",
      "execution_count": null,
      "metadata": {
        "id": "QrWCNCmWk-vs"
      },
      "outputs": [],
      "source": [
        "import numpy as np\n",
        "import pandas as pd\n",
        "import re\n",
        "import nltk\n",
        "from nltk.corpus import stopwords\n",
        "from nltk.stem.porter import PorterStemmer\n",
        "from sklearn.feature_extraction.text import TfidfVectorizer\n",
        "from sklearn.model_selection import train_test_split\n",
        "from sklearn.linear_model import LogisticRegression\n",
        "from sklearn.metrics import accuracy_score\n",
        "\n"
      ]
    },
    {
      "cell_type": "code",
      "source": [
        "nltk.download('stopwords')"
      ],
      "metadata": {
        "colab": {
          "base_uri": "https://localhost:8080/"
        },
        "id": "Q9ZR0vqVo75w",
        "outputId": "f294e2ba-03c3-4402-ac6e-6d17e9314715"
      },
      "execution_count": null,
      "outputs": [
        {
          "output_type": "stream",
          "name": "stderr",
          "text": [
            "[nltk_data] Downloading package stopwords to /root/nltk_data...\n",
            "[nltk_data]   Package stopwords is already up-to-date!\n"
          ]
        },
        {
          "output_type": "execute_result",
          "data": {
            "text/plain": [
              "True"
            ]
          },
          "metadata": {},
          "execution_count": 62
        }
      ]
    },
    {
      "cell_type": "code",
      "source": [
        "#printing the stopwords\n",
        "print(stopwords.words('english'))"
      ],
      "metadata": {
        "colab": {
          "base_uri": "https://localhost:8080/"
        },
        "id": "ZXSF2GKipEOR",
        "outputId": "8db00cfb-a7ae-4538-fe54-aa241403a52d"
      },
      "execution_count": null,
      "outputs": [
        {
          "output_type": "stream",
          "name": "stdout",
          "text": [
            "['i', 'me', 'my', 'myself', 'we', 'our', 'ours', 'ourselves', 'you', \"you're\", \"you've\", \"you'll\", \"you'd\", 'your', 'yours', 'yourself', 'yourselves', 'he', 'him', 'his', 'himself', 'she', \"she's\", 'her', 'hers', 'herself', 'it', \"it's\", 'its', 'itself', 'they', 'them', 'their', 'theirs', 'themselves', 'what', 'which', 'who', 'whom', 'this', 'that', \"that'll\", 'these', 'those', 'am', 'is', 'are', 'was', 'were', 'be', 'been', 'being', 'have', 'has', 'had', 'having', 'do', 'does', 'did', 'doing', 'a', 'an', 'the', 'and', 'but', 'if', 'or', 'because', 'as', 'until', 'while', 'of', 'at', 'by', 'for', 'with', 'about', 'against', 'between', 'into', 'through', 'during', 'before', 'after', 'above', 'below', 'to', 'from', 'up', 'down', 'in', 'out', 'on', 'off', 'over', 'under', 'again', 'further', 'then', 'once', 'here', 'there', 'when', 'where', 'why', 'how', 'all', 'any', 'both', 'each', 'few', 'more', 'most', 'other', 'some', 'such', 'no', 'nor', 'not', 'only', 'own', 'same', 'so', 'than', 'too', 'very', 's', 't', 'can', 'will', 'just', 'don', \"don't\", 'should', \"should've\", 'now', 'd', 'll', 'm', 'o', 're', 've', 'y', 'ain', 'aren', \"aren't\", 'couldn', \"couldn't\", 'didn', \"didn't\", 'doesn', \"doesn't\", 'hadn', \"hadn't\", 'hasn', \"hasn't\", 'haven', \"haven't\", 'isn', \"isn't\", 'ma', 'mightn', \"mightn't\", 'mustn', \"mustn't\", 'needn', \"needn't\", 'shan', \"shan't\", 'shouldn', \"shouldn't\", 'wasn', \"wasn't\", 'weren', \"weren't\", 'won', \"won't\", 'wouldn', \"wouldn't\"]\n"
          ]
        }
      ]
    },
    {
      "cell_type": "markdown",
      "source": [
        "Data Preprocessing"
      ],
      "metadata": {
        "id": "5-xhi01rp2ke"
      }
    },
    {
      "cell_type": "code",
      "source": [
        "#load the data to pandas data frame\n",
        "news_data = pd.read_csv('/content/train.csv', engine='python', on_bad_lines='warn')"
      ],
      "metadata": {
        "id": "i0O8OkR4p-Rf",
        "colab": {
          "base_uri": "https://localhost:8080/"
        },
        "outputId": "ce1fc034-f1be-4201-feac-cc68613f249f"
      },
      "execution_count": null,
      "outputs": [
        {
          "output_type": "stream",
          "name": "stderr",
          "text": [
            "<ipython-input-39-4dfcaa524200>:2: ParserWarning: Skipping line 6436: unexpected end of data\n",
            "\n",
            "  news_data = pd.read_csv('/content/train.csv', engine='python', on_bad_lines='warn')\n"
          ]
        }
      ]
    },
    {
      "cell_type": "code",
      "source": [
        "#first 5 rows of data frame\n",
        "news_data.head(5)"
      ],
      "metadata": {
        "colab": {
          "base_uri": "https://localhost:8080/",
          "height": 379
        },
        "id": "Q5LEbibHrGp-",
        "outputId": "1b6092d8-08c2-4b0b-b52c-c2d6fa161f7b"
      },
      "execution_count": null,
      "outputs": [
        {
          "output_type": "execute_result",
          "data": {
            "text/plain": [
              "   id                                              title              author  \\\n",
              "0   0  House Dem Aide: We Didn’t Even See Comey’s Let...       Darrell Lucus   \n",
              "1   1  FLYNN: Hillary Clinton, Big Woman on Campus - ...     Daniel J. Flynn   \n",
              "2   2                  Why the Truth Might Get You Fired  Consortiumnews.com   \n",
              "3   3  15 Civilians Killed In Single US Airstrike Hav...     Jessica Purkiss   \n",
              "4   4  Iranian woman jailed for fictional unpublished...      Howard Portnoy   \n",
              "\n",
              "                                                text  label  \n",
              "0  House Dem Aide: We Didn’t Even See Comey’s Let...      1  \n",
              "1  Ever get the feeling your life circles the rou...      0  \n",
              "2  Why the Truth Might Get You Fired October 29, ...      1  \n",
              "3  Videos 15 Civilians Killed In Single US Airstr...      1  \n",
              "4  Print \\nAn Iranian woman has been sentenced to...      1  "
            ],
            "text/html": [
              "\n",
              "  <div id=\"df-1859fd0e-94fe-49f4-8389-15ea962f0078\" class=\"colab-df-container\">\n",
              "    <div>\n",
              "<style scoped>\n",
              "    .dataframe tbody tr th:only-of-type {\n",
              "        vertical-align: middle;\n",
              "    }\n",
              "\n",
              "    .dataframe tbody tr th {\n",
              "        vertical-align: top;\n",
              "    }\n",
              "\n",
              "    .dataframe thead th {\n",
              "        text-align: right;\n",
              "    }\n",
              "</style>\n",
              "<table border=\"1\" class=\"dataframe\">\n",
              "  <thead>\n",
              "    <tr style=\"text-align: right;\">\n",
              "      <th></th>\n",
              "      <th>id</th>\n",
              "      <th>title</th>\n",
              "      <th>author</th>\n",
              "      <th>text</th>\n",
              "      <th>label</th>\n",
              "    </tr>\n",
              "  </thead>\n",
              "  <tbody>\n",
              "    <tr>\n",
              "      <th>0</th>\n",
              "      <td>0</td>\n",
              "      <td>House Dem Aide: We Didn’t Even See Comey’s Let...</td>\n",
              "      <td>Darrell Lucus</td>\n",
              "      <td>House Dem Aide: We Didn’t Even See Comey’s Let...</td>\n",
              "      <td>1</td>\n",
              "    </tr>\n",
              "    <tr>\n",
              "      <th>1</th>\n",
              "      <td>1</td>\n",
              "      <td>FLYNN: Hillary Clinton, Big Woman on Campus - ...</td>\n",
              "      <td>Daniel J. Flynn</td>\n",
              "      <td>Ever get the feeling your life circles the rou...</td>\n",
              "      <td>0</td>\n",
              "    </tr>\n",
              "    <tr>\n",
              "      <th>2</th>\n",
              "      <td>2</td>\n",
              "      <td>Why the Truth Might Get You Fired</td>\n",
              "      <td>Consortiumnews.com</td>\n",
              "      <td>Why the Truth Might Get You Fired October 29, ...</td>\n",
              "      <td>1</td>\n",
              "    </tr>\n",
              "    <tr>\n",
              "      <th>3</th>\n",
              "      <td>3</td>\n",
              "      <td>15 Civilians Killed In Single US Airstrike Hav...</td>\n",
              "      <td>Jessica Purkiss</td>\n",
              "      <td>Videos 15 Civilians Killed In Single US Airstr...</td>\n",
              "      <td>1</td>\n",
              "    </tr>\n",
              "    <tr>\n",
              "      <th>4</th>\n",
              "      <td>4</td>\n",
              "      <td>Iranian woman jailed for fictional unpublished...</td>\n",
              "      <td>Howard Portnoy</td>\n",
              "      <td>Print \\nAn Iranian woman has been sentenced to...</td>\n",
              "      <td>1</td>\n",
              "    </tr>\n",
              "  </tbody>\n",
              "</table>\n",
              "</div>\n",
              "    <div class=\"colab-df-buttons\">\n",
              "\n",
              "  <div class=\"colab-df-container\">\n",
              "    <button class=\"colab-df-convert\" onclick=\"convertToInteractive('df-1859fd0e-94fe-49f4-8389-15ea962f0078')\"\n",
              "            title=\"Convert this dataframe to an interactive table.\"\n",
              "            style=\"display:none;\">\n",
              "\n",
              "  <svg xmlns=\"http://www.w3.org/2000/svg\" height=\"24px\" viewBox=\"0 -960 960 960\">\n",
              "    <path d=\"M120-120v-720h720v720H120Zm60-500h600v-160H180v160Zm220 220h160v-160H400v160Zm0 220h160v-160H400v160ZM180-400h160v-160H180v160Zm440 0h160v-160H620v160ZM180-180h160v-160H180v160Zm440 0h160v-160H620v160Z\"/>\n",
              "  </svg>\n",
              "    </button>\n",
              "\n",
              "  <style>\n",
              "    .colab-df-container {\n",
              "      display:flex;\n",
              "      gap: 12px;\n",
              "    }\n",
              "\n",
              "    .colab-df-convert {\n",
              "      background-color: #E8F0FE;\n",
              "      border: none;\n",
              "      border-radius: 50%;\n",
              "      cursor: pointer;\n",
              "      display: none;\n",
              "      fill: #1967D2;\n",
              "      height: 32px;\n",
              "      padding: 0 0 0 0;\n",
              "      width: 32px;\n",
              "    }\n",
              "\n",
              "    .colab-df-convert:hover {\n",
              "      background-color: #E2EBFA;\n",
              "      box-shadow: 0px 1px 2px rgba(60, 64, 67, 0.3), 0px 1px 3px 1px rgba(60, 64, 67, 0.15);\n",
              "      fill: #174EA6;\n",
              "    }\n",
              "\n",
              "    .colab-df-buttons div {\n",
              "      margin-bottom: 4px;\n",
              "    }\n",
              "\n",
              "    [theme=dark] .colab-df-convert {\n",
              "      background-color: #3B4455;\n",
              "      fill: #D2E3FC;\n",
              "    }\n",
              "\n",
              "    [theme=dark] .colab-df-convert:hover {\n",
              "      background-color: #434B5C;\n",
              "      box-shadow: 0px 1px 3px 1px rgba(0, 0, 0, 0.15);\n",
              "      filter: drop-shadow(0px 1px 2px rgba(0, 0, 0, 0.3));\n",
              "      fill: #FFFFFF;\n",
              "    }\n",
              "  </style>\n",
              "\n",
              "    <script>\n",
              "      const buttonEl =\n",
              "        document.querySelector('#df-1859fd0e-94fe-49f4-8389-15ea962f0078 button.colab-df-convert');\n",
              "      buttonEl.style.display =\n",
              "        google.colab.kernel.accessAllowed ? 'block' : 'none';\n",
              "\n",
              "      async function convertToInteractive(key) {\n",
              "        const element = document.querySelector('#df-1859fd0e-94fe-49f4-8389-15ea962f0078');\n",
              "        const dataTable =\n",
              "          await google.colab.kernel.invokeFunction('convertToInteractive',\n",
              "                                                    [key], {});\n",
              "        if (!dataTable) return;\n",
              "\n",
              "        const docLinkHtml = 'Like what you see? Visit the ' +\n",
              "          '<a target=\"_blank\" href=https://colab.research.google.com/notebooks/data_table.ipynb>data table notebook</a>'\n",
              "          + ' to learn more about interactive tables.';\n",
              "        element.innerHTML = '';\n",
              "        dataTable['output_type'] = 'display_data';\n",
              "        await google.colab.output.renderOutput(dataTable, element);\n",
              "        const docLink = document.createElement('div');\n",
              "        docLink.innerHTML = docLinkHtml;\n",
              "        element.appendChild(docLink);\n",
              "      }\n",
              "    </script>\n",
              "  </div>\n",
              "\n",
              "\n",
              "<div id=\"df-744c5066-7eeb-4dc8-b117-2b7cbad0d929\">\n",
              "  <button class=\"colab-df-quickchart\" onclick=\"quickchart('df-744c5066-7eeb-4dc8-b117-2b7cbad0d929')\"\n",
              "            title=\"Suggest charts\"\n",
              "            style=\"display:none;\">\n",
              "\n",
              "<svg xmlns=\"http://www.w3.org/2000/svg\" height=\"24px\"viewBox=\"0 0 24 24\"\n",
              "     width=\"24px\">\n",
              "    <g>\n",
              "        <path d=\"M19 3H5c-1.1 0-2 .9-2 2v14c0 1.1.9 2 2 2h14c1.1 0 2-.9 2-2V5c0-1.1-.9-2-2-2zM9 17H7v-7h2v7zm4 0h-2V7h2v10zm4 0h-2v-4h2v4z\"/>\n",
              "    </g>\n",
              "</svg>\n",
              "  </button>\n",
              "\n",
              "<style>\n",
              "  .colab-df-quickchart {\n",
              "      --bg-color: #E8F0FE;\n",
              "      --fill-color: #1967D2;\n",
              "      --hover-bg-color: #E2EBFA;\n",
              "      --hover-fill-color: #174EA6;\n",
              "      --disabled-fill-color: #AAA;\n",
              "      --disabled-bg-color: #DDD;\n",
              "  }\n",
              "\n",
              "  [theme=dark] .colab-df-quickchart {\n",
              "      --bg-color: #3B4455;\n",
              "      --fill-color: #D2E3FC;\n",
              "      --hover-bg-color: #434B5C;\n",
              "      --hover-fill-color: #FFFFFF;\n",
              "      --disabled-bg-color: #3B4455;\n",
              "      --disabled-fill-color: #666;\n",
              "  }\n",
              "\n",
              "  .colab-df-quickchart {\n",
              "    background-color: var(--bg-color);\n",
              "    border: none;\n",
              "    border-radius: 50%;\n",
              "    cursor: pointer;\n",
              "    display: none;\n",
              "    fill: var(--fill-color);\n",
              "    height: 32px;\n",
              "    padding: 0;\n",
              "    width: 32px;\n",
              "  }\n",
              "\n",
              "  .colab-df-quickchart:hover {\n",
              "    background-color: var(--hover-bg-color);\n",
              "    box-shadow: 0 1px 2px rgba(60, 64, 67, 0.3), 0 1px 3px 1px rgba(60, 64, 67, 0.15);\n",
              "    fill: var(--button-hover-fill-color);\n",
              "  }\n",
              "\n",
              "  .colab-df-quickchart-complete:disabled,\n",
              "  .colab-df-quickchart-complete:disabled:hover {\n",
              "    background-color: var(--disabled-bg-color);\n",
              "    fill: var(--disabled-fill-color);\n",
              "    box-shadow: none;\n",
              "  }\n",
              "\n",
              "  .colab-df-spinner {\n",
              "    border: 2px solid var(--fill-color);\n",
              "    border-color: transparent;\n",
              "    border-bottom-color: var(--fill-color);\n",
              "    animation:\n",
              "      spin 1s steps(1) infinite;\n",
              "  }\n",
              "\n",
              "  @keyframes spin {\n",
              "    0% {\n",
              "      border-color: transparent;\n",
              "      border-bottom-color: var(--fill-color);\n",
              "      border-left-color: var(--fill-color);\n",
              "    }\n",
              "    20% {\n",
              "      border-color: transparent;\n",
              "      border-left-color: var(--fill-color);\n",
              "      border-top-color: var(--fill-color);\n",
              "    }\n",
              "    30% {\n",
              "      border-color: transparent;\n",
              "      border-left-color: var(--fill-color);\n",
              "      border-top-color: var(--fill-color);\n",
              "      border-right-color: var(--fill-color);\n",
              "    }\n",
              "    40% {\n",
              "      border-color: transparent;\n",
              "      border-right-color: var(--fill-color);\n",
              "      border-top-color: var(--fill-color);\n",
              "    }\n",
              "    60% {\n",
              "      border-color: transparent;\n",
              "      border-right-color: var(--fill-color);\n",
              "    }\n",
              "    80% {\n",
              "      border-color: transparent;\n",
              "      border-right-color: var(--fill-color);\n",
              "      border-bottom-color: var(--fill-color);\n",
              "    }\n",
              "    90% {\n",
              "      border-color: transparent;\n",
              "      border-bottom-color: var(--fill-color);\n",
              "    }\n",
              "  }\n",
              "</style>\n",
              "\n",
              "  <script>\n",
              "    async function quickchart(key) {\n",
              "      const quickchartButtonEl =\n",
              "        document.querySelector('#' + key + ' button');\n",
              "      quickchartButtonEl.disabled = true;  // To prevent multiple clicks.\n",
              "      quickchartButtonEl.classList.add('colab-df-spinner');\n",
              "      try {\n",
              "        const charts = await google.colab.kernel.invokeFunction(\n",
              "            'suggestCharts', [key], {});\n",
              "      } catch (error) {\n",
              "        console.error('Error during call to suggestCharts:', error);\n",
              "      }\n",
              "      quickchartButtonEl.classList.remove('colab-df-spinner');\n",
              "      quickchartButtonEl.classList.add('colab-df-quickchart-complete');\n",
              "    }\n",
              "    (() => {\n",
              "      let quickchartButtonEl =\n",
              "        document.querySelector('#df-744c5066-7eeb-4dc8-b117-2b7cbad0d929 button');\n",
              "      quickchartButtonEl.style.display =\n",
              "        google.colab.kernel.accessAllowed ? 'block' : 'none';\n",
              "    })();\n",
              "  </script>\n",
              "</div>\n",
              "\n",
              "    </div>\n",
              "  </div>\n"
            ],
            "application/vnd.google.colaboratory.intrinsic+json": {
              "type": "dataframe",
              "variable_name": "news_data",
              "summary": "{\n  \"name\": \"news_data\",\n  \"rows\": 6434,\n  \"fields\": [\n    {\n      \"column\": \"id\",\n      \"properties\": {\n        \"dtype\": \"number\",\n        \"std\": 1857,\n        \"min\": 0,\n        \"max\": 6433,\n        \"num_unique_values\": 6434,\n        \"samples\": [\n          2436,\n          3361,\n          233\n        ],\n        \"semantic_type\": \"\",\n        \"description\": \"\"\n      }\n    },\n    {\n      \"column\": \"title\",\n      \"properties\": {\n        \"dtype\": \"string\",\n        \"num_unique_values\": 6206,\n        \"samples\": [\n          \"US Military on Ground in Syria Training Opposition for Raqqa Operation\",\n          \"Russia and the United States Reach New Agreement on Syria Conflict - The New York Times\",\n          \"For Whites Sensing Decline, Donald Trump Unleashes Words of Resistance - The New York Times\"\n        ],\n        \"semantic_type\": \"\",\n        \"description\": \"\"\n      }\n    },\n    {\n      \"column\": \"author\",\n      \"properties\": {\n        \"dtype\": \"category\",\n        \"num_unique_values\": 2013,\n        \"samples\": [\n          \"David Shaftel\",\n          \"Kantzveldt\",\n          \"David E. Sanger\"\n        ],\n        \"semantic_type\": \"\",\n        \"description\": \"\"\n      }\n    },\n    {\n      \"column\": \"text\",\n      \"properties\": {\n        \"dtype\": \"string\",\n        \"num_unique_values\": 6351,\n        \"samples\": [\n          \"By Wes Williams Election 2016 , Miscellaneous , Politics , Videos October 28, 2016 \\u2018I Could Sue You\\u2019: Trump\\u2019s Spokeswoman Slanders Angela Rye On Live TV \\u2013 Gets Epic Smack Down (VIDEO)   \\nOver the past few months, the on-air battles at CNN between Trump\\u2019s dumb-as-a-stump surrogate Katrina Pierson and liberal commentator Angela Rye have become legendary. On Friday morning the two put on the gloves to go another round. \\nThe conversation starts out innocently enough, with a discussion about new economic numbers that show the economy is growing and getting stronger. Great news for Americans \\u2014 except those like Donald Trump, who are looking to benefit politically from the lie that record numbers of people are suffering. Then host Carol Costello plays a clip of Trump telling an Ohio rally that he wants to do something about the inner city \\u201cghettos.\\u201d She observes to Pierson that many black Americans would observe that Trump is not looking at \\u201cthe whole of the black population.\\u201d \\nPierson responds that some members of the black community have been consulting with Trump about the problem. The look on Rye\\u2019s face when she says that is classic. When she gets a chance to respond, she says, \\n\\u201cI think it\\u2019s really important that when we have conversations like this they\\u2019re rooted in facts. Let\\u2019s talk about what Donald Trump could be saying to black people that would resonate and be based in truth.\\u201d \\nRye goes on to explain how people like Trump, who have access to capital, don\\u2019t seem to appreciate that everyone can\\u2019t get their hands on money to improve their lives. Then she talks about Trump\\u2019s history as a real estate mogul, who has actually contributed to the creation of the \\u201cghettos\\u201d which he now says he wants to fix. \\nPierson responds that Trump has worked with members of the black community, including Jesse Jackson, to help members of the black community create and build businesses. That promotes a hearty laugh from Rye. Costello notes that Rye was a former director of the Congressional Black Caucus, as she asks her to respond. Pierson cuts in, remarking \\u201cAnd [she] ran it [the CBC] into the ground.\\u201d At that point, the two women drop all pretense of liking each other and the battle is on. Rye unloads on Pierson with a barrage of facts that her poor little Trump-addled brain was probably having difficulty processing. And when Costello tries to rein her in, Rye hits Pierson with a comment right out of Trump\\u2019s playbook. Referring to the charge she \\u201cran the CBC into the ground,\\u201d Rye says: \\n\\u201cThat\\u2019s slander. I could sue you, Katrina!\\u201d \\nHere\\u2019s the latest round in the Rye-Pierson war of words, via YouTube: \\nFeatured image via screen capture Share this Article!\",\n          \"The president charges that the Obama administration conducted surveillance on Trump Tower during the 2016 campaign. His critics charge him with making baseless accusations. [Bernie Sanders labeled Trump\\u2019s claim \\u201cdelusional,\\u201d a Politico article by Bradley Moss calls the notion \\u201cpreposterous,\\u201d and Al Franken dubbed it \\u201cridiculous. \\u201d John McCain reentered the fray over the weekend, opining, \\u201cThe president has one of two choices, either retract, or to provide the information that the American people deserve. \\u201d  Put another way, either Barack Obama snooped or he didn\\u2019t snoop. President Trump releasing Foreign Intelligence Surveillance Act court requests may go a long way toward proving or disproving his claim. While forthcoming information may substantiate or invalidate Trump\\u2019s specific accusation, the general notion that presidents, particularly Democratic presidents, remain above abusing the security apparatus to violate civil liberties of private citizens ranks as, if not delusional, preposterous, and ridiculous, at least slightly na\\u00efve. If Barack Obama spied on a political enemy under the guise of spying on a foreign enemy, he finds himself in bad company. Contrary to the \\u201cshocked, shocked\\u201d reactions, presidents other than Richard Nixon abused power to abuse political enemies \\u2014  and violate the civil liberties of strangers. President Woodrow Wilson signed the Alien Act, the Sedition Act, Espionage Act, and the Trading with the Enemy Act, which empowered the federal government to send socialist leader Eugene Debs to prison for opposing the draft, to revoke the postal privileges of the American Socialist, the New York Call, and other   publications, and to deport sundry radicals, most notably on the famous \\u201cSoviet Ark. \\u201d Although the president\\u2019s prejudices recently sparked a reorientation of his legacy among   liberals, his vindictive use of federal power to punish adversaries goes barely mentioned. President Franklin Roosevelt, over the objections of \\u201cMr. Republican\\u201d Robert Taft, instituted an internment and relocation program for those of Japanese, German, and Italian descent in America. The Korematsu decision, in which six justices \\u2014  five appointed to the court and the sixth appointed as chief justice by the 32nd president \\u2014  upheld Roosevelt\\u2019s 1942 executive order barring Americans of   including the   Fred Korematsu, from residing on the West Coast. The order and decision regularly receive condemnation from Democrats decades after the fact. In real time, Democrats devised, praised, and upheld the constitutionality of the policy. President John F. Kennedy\\u2019s administration launched a federal invasion of Martin Luther King\\u2019s privacy that ended only with the minister\\u2019s death. The president\\u2019s brother, Attorney General Robert Kennedy, authorized wiretaps and bugs to glean personal information about King. The president, himself a man of great appetites, shared stories of King\\u2019s sexual interests, including allegedly attempting to organize a sex party coinciding with 1963\\u2019s March on Washington, with intimates. The prying says more about the Kennedys than King. But historians don\\u2019t say much about the role of the eavesdroppers. Taylor Branch, for instance, maintains that J. Edgar Hoover \\u201cmanipulated\\u201d the Brothers Kennedy into hounding the   leader. This popular narrative imagines that the FBI director ordered around the president and the attorney general rather than the reverse. So many policies decried as infringements on civil liberties by today\\u2019s Democrats came into existence because yesterday\\u2019s Democrats regarded them as enlightened. The Palmer Raids and the McCarran Act got their names from a progressive Democrat and a conservative Democrat, respectively. Samuel Dickstein, the congressman whose resolution launched the House Committee on   Activities (HCUA) actually served as a paid agent of the Soviet Union. Republicans controlled the House, and its controversial committee, in just four of the 36 years of the   HCUA\\u2019s existence. Democrats jailed Eugene Debs, forcibly relocated Fred Korematsu and barred Joe DiMaggio\\u2019s   from his profession, and authorized the bugs that mined the most personal details from Martin Luther King\\u2019s private life. But trust them. They don\\u2019t do such things any longer.\",\n          \"A plan by a Massachusetts county to work with federal immigration authorities in order to quickly deport illegal immigrants has open border groups enraged. [Plymouth County Sheriff Joseph McDonald signed an agreement with the federal government which will allow his officers to interview suspected illegal immigrants in police custody and better hand them over to the Immigration and Customs Enforcement (ICE) for deportation, as Breitbart Texas reported.  The agreement gives Plymouth County law enforcement access to a federal database where they can check if a suspected illegal immigrant is wanted for another crime or has returned to the U. S. after being previously deported. Open border activists from the American Civil Liberties Union (ACLU) and the Brockton Interfaith Community are targeting the local agreement as an effort they claim strips illegal aliens of their rights, despite their immigration status. \\u201cNow, literally your local police officer is going to be an ICE official,\\u201d ACLU Massachusetts Attorney Laura Rotolo told the Enterprise News. \\u201cWhen that happens, people become afraid to call the police. \\u201d Similarly, the lead organizer for the Brockton Interfaith Community, Isabel Lopez, said the migrants being targeted \\u201chaven\\u2019t done anything wrong. \\u201d \\u201cThat\\u2019s the biggest concern we have, because we have mothers and families who haven\\u2019t done anything wrong,\\u201d Lopez told the paper. McDonald pushed back against the accusations, saying \\u201cI think it enhances public safety. \\u201d \\u201cIt\\u2019s not like we\\u2019re out there enforcing immigration law,\\u201d McDonald said. \\u201cWhat we\\u2019re doing is identifying criminal offenders who may also be here illegally. \\u201d Lopez said her community group felt betrayed by McDonald because she said he promised not to sign an immigration agreement, though he denies that claim. \\u201cI\\u2019m looking forward to talking with them and hearing what they have to say, and I\\u2019m looking forward to informing them, because I think there is a lot of misinformation floating around,\\u201d McDonald said. McDonald is not the only sheriff in town to take on new measures to fight off illegal immigration locally. Bristol County Sheriff Thomas Hodgson also signed the same agreement with the federal government, as he has adamantly supported   Donald Trump\\u2019s plan to end illegal immigration. Weeks ago, the Bristol County Sheriff voiced support for Trump\\u2019s plan to build a southern border wall, as Breitbart News reported. Hodgson offered county inmates as laborers to help build the wall, saying \\u201cI can think of no other project that would have such a positive impact on our inmates and our country than building this wall. \\u201d John Binder is a contributor for Breitbart Texas. Follow him on Twitter at @JxhnBinder.\"\n        ],\n        \"semantic_type\": \"\",\n        \"description\": \"\"\n      }\n    },\n    {\n      \"column\": \"label\",\n      \"properties\": {\n        \"dtype\": \"number\",\n        \"std\": 0,\n        \"min\": 0,\n        \"max\": 1,\n        \"num_unique_values\": 2,\n        \"samples\": [\n          0,\n          1\n        ],\n        \"semantic_type\": \"\",\n        \"description\": \"\"\n      }\n    }\n  ]\n}"
            }
          },
          "metadata": {},
          "execution_count": 40
        }
      ]
    },
    {
      "cell_type": "markdown",
      "source": [
        "0-->real news\n",
        "1--> fake news"
      ],
      "metadata": {
        "id": "6F1fFXuvs5Lw"
      }
    },
    {
      "cell_type": "code",
      "source": [
        "news_data.shape"
      ],
      "metadata": {
        "colab": {
          "base_uri": "https://localhost:8080/"
        },
        "id": "uib4E_Rts9NE",
        "outputId": "aadef32a-0ac7-4e0f-b2c2-4a0f68e932be"
      },
      "execution_count": null,
      "outputs": [
        {
          "output_type": "execute_result",
          "data": {
            "text/plain": [
              "(6434, 5)"
            ]
          },
          "metadata": {},
          "execution_count": 43
        }
      ]
    },
    {
      "cell_type": "code",
      "source": [
        "#checking for missing values\n",
        "news_data.isnull().sum()"
      ],
      "metadata": {
        "colab": {
          "base_uri": "https://localhost:8080/",
          "height": 240
        },
        "id": "kZJbNNJ_tABw",
        "outputId": "331cfd1f-b04a-48c2-ba10-0886895f202c"
      },
      "execution_count": null,
      "outputs": [
        {
          "output_type": "execute_result",
          "data": {
            "text/plain": [
              "id          0\n",
              "title     178\n",
              "author    619\n",
              "text       13\n",
              "label       0\n",
              "dtype: int64"
            ],
            "text/html": [
              "<div>\n",
              "<style scoped>\n",
              "    .dataframe tbody tr th:only-of-type {\n",
              "        vertical-align: middle;\n",
              "    }\n",
              "\n",
              "    .dataframe tbody tr th {\n",
              "        vertical-align: top;\n",
              "    }\n",
              "\n",
              "    .dataframe thead th {\n",
              "        text-align: right;\n",
              "    }\n",
              "</style>\n",
              "<table border=\"1\" class=\"dataframe\">\n",
              "  <thead>\n",
              "    <tr style=\"text-align: right;\">\n",
              "      <th></th>\n",
              "      <th>0</th>\n",
              "    </tr>\n",
              "  </thead>\n",
              "  <tbody>\n",
              "    <tr>\n",
              "      <th>id</th>\n",
              "      <td>0</td>\n",
              "    </tr>\n",
              "    <tr>\n",
              "      <th>title</th>\n",
              "      <td>178</td>\n",
              "    </tr>\n",
              "    <tr>\n",
              "      <th>author</th>\n",
              "      <td>619</td>\n",
              "    </tr>\n",
              "    <tr>\n",
              "      <th>text</th>\n",
              "      <td>13</td>\n",
              "    </tr>\n",
              "    <tr>\n",
              "      <th>label</th>\n",
              "      <td>0</td>\n",
              "    </tr>\n",
              "  </tbody>\n",
              "</table>\n",
              "</div><br><label><b>dtype:</b> int64</label>"
            ]
          },
          "metadata": {},
          "execution_count": 44
        }
      ]
    },
    {
      "cell_type": "code",
      "source": [
        "#replacing missing values with null string\n",
        "news_data = news_data.fillna('')"
      ],
      "metadata": {
        "id": "46BXrlLQtSfI"
      },
      "execution_count": null,
      "outputs": []
    },
    {
      "cell_type": "code",
      "source": [
        "#merge author name and new title\n",
        "news_data['content'] = news_data['author']+' '+news_data['title']"
      ],
      "metadata": {
        "id": "ma-nBnKVtsIC"
      },
      "execution_count": null,
      "outputs": []
    },
    {
      "cell_type": "code",
      "source": [
        "news_data.head()"
      ],
      "metadata": {
        "colab": {
          "base_uri": "https://localhost:8080/",
          "height": 605
        },
        "id": "G2ArabZXt8Rl",
        "outputId": "4f632a8b-bdf3-4623-f76f-e6ed62843fc0"
      },
      "execution_count": null,
      "outputs": [
        {
          "output_type": "execute_result",
          "data": {
            "text/plain": [
              "   id                                              title              author  \\\n",
              "0   0  House Dem Aide: We Didn’t Even See Comey’s Let...       Darrell Lucus   \n",
              "1   1  FLYNN: Hillary Clinton, Big Woman on Campus - ...     Daniel J. Flynn   \n",
              "2   2                  Why the Truth Might Get You Fired  Consortiumnews.com   \n",
              "3   3  15 Civilians Killed In Single US Airstrike Hav...     Jessica Purkiss   \n",
              "4   4  Iranian woman jailed for fictional unpublished...      Howard Portnoy   \n",
              "\n",
              "                                                text  label  \\\n",
              "0  House Dem Aide: We Didn’t Even See Comey’s Let...      1   \n",
              "1  Ever get the feeling your life circles the rou...      0   \n",
              "2  Why the Truth Might Get You Fired October 29, ...      1   \n",
              "3  Videos 15 Civilians Killed In Single US Airstr...      1   \n",
              "4  Print \\nAn Iranian woman has been sentenced to...      1   \n",
              "\n",
              "                                             content  \n",
              "0  Darrell Lucus House Dem Aide: We Didn’t Even S...  \n",
              "1  Daniel J. Flynn FLYNN: Hillary Clinton, Big Wo...  \n",
              "2  Consortiumnews.com Why the Truth Might Get You...  \n",
              "3  Jessica Purkiss 15 Civilians Killed In Single ...  \n",
              "4  Howard Portnoy Iranian woman jailed for fictio...  "
            ],
            "text/html": [
              "\n",
              "  <div id=\"df-f077e47b-d7ef-453e-abb3-5b6f7595965a\" class=\"colab-df-container\">\n",
              "    <div>\n",
              "<style scoped>\n",
              "    .dataframe tbody tr th:only-of-type {\n",
              "        vertical-align: middle;\n",
              "    }\n",
              "\n",
              "    .dataframe tbody tr th {\n",
              "        vertical-align: top;\n",
              "    }\n",
              "\n",
              "    .dataframe thead th {\n",
              "        text-align: right;\n",
              "    }\n",
              "</style>\n",
              "<table border=\"1\" class=\"dataframe\">\n",
              "  <thead>\n",
              "    <tr style=\"text-align: right;\">\n",
              "      <th></th>\n",
              "      <th>id</th>\n",
              "      <th>title</th>\n",
              "      <th>author</th>\n",
              "      <th>text</th>\n",
              "      <th>label</th>\n",
              "      <th>content</th>\n",
              "    </tr>\n",
              "  </thead>\n",
              "  <tbody>\n",
              "    <tr>\n",
              "      <th>0</th>\n",
              "      <td>0</td>\n",
              "      <td>House Dem Aide: We Didn’t Even See Comey’s Let...</td>\n",
              "      <td>Darrell Lucus</td>\n",
              "      <td>House Dem Aide: We Didn’t Even See Comey’s Let...</td>\n",
              "      <td>1</td>\n",
              "      <td>Darrell Lucus House Dem Aide: We Didn’t Even S...</td>\n",
              "    </tr>\n",
              "    <tr>\n",
              "      <th>1</th>\n",
              "      <td>1</td>\n",
              "      <td>FLYNN: Hillary Clinton, Big Woman on Campus - ...</td>\n",
              "      <td>Daniel J. Flynn</td>\n",
              "      <td>Ever get the feeling your life circles the rou...</td>\n",
              "      <td>0</td>\n",
              "      <td>Daniel J. Flynn FLYNN: Hillary Clinton, Big Wo...</td>\n",
              "    </tr>\n",
              "    <tr>\n",
              "      <th>2</th>\n",
              "      <td>2</td>\n",
              "      <td>Why the Truth Might Get You Fired</td>\n",
              "      <td>Consortiumnews.com</td>\n",
              "      <td>Why the Truth Might Get You Fired October 29, ...</td>\n",
              "      <td>1</td>\n",
              "      <td>Consortiumnews.com Why the Truth Might Get You...</td>\n",
              "    </tr>\n",
              "    <tr>\n",
              "      <th>3</th>\n",
              "      <td>3</td>\n",
              "      <td>15 Civilians Killed In Single US Airstrike Hav...</td>\n",
              "      <td>Jessica Purkiss</td>\n",
              "      <td>Videos 15 Civilians Killed In Single US Airstr...</td>\n",
              "      <td>1</td>\n",
              "      <td>Jessica Purkiss 15 Civilians Killed In Single ...</td>\n",
              "    </tr>\n",
              "    <tr>\n",
              "      <th>4</th>\n",
              "      <td>4</td>\n",
              "      <td>Iranian woman jailed for fictional unpublished...</td>\n",
              "      <td>Howard Portnoy</td>\n",
              "      <td>Print \\nAn Iranian woman has been sentenced to...</td>\n",
              "      <td>1</td>\n",
              "      <td>Howard Portnoy Iranian woman jailed for fictio...</td>\n",
              "    </tr>\n",
              "  </tbody>\n",
              "</table>\n",
              "</div>\n",
              "    <div class=\"colab-df-buttons\">\n",
              "\n",
              "  <div class=\"colab-df-container\">\n",
              "    <button class=\"colab-df-convert\" onclick=\"convertToInteractive('df-f077e47b-d7ef-453e-abb3-5b6f7595965a')\"\n",
              "            title=\"Convert this dataframe to an interactive table.\"\n",
              "            style=\"display:none;\">\n",
              "\n",
              "  <svg xmlns=\"http://www.w3.org/2000/svg\" height=\"24px\" viewBox=\"0 -960 960 960\">\n",
              "    <path d=\"M120-120v-720h720v720H120Zm60-500h600v-160H180v160Zm220 220h160v-160H400v160Zm0 220h160v-160H400v160ZM180-400h160v-160H180v160Zm440 0h160v-160H620v160ZM180-180h160v-160H180v160Zm440 0h160v-160H620v160Z\"/>\n",
              "  </svg>\n",
              "    </button>\n",
              "\n",
              "  <style>\n",
              "    .colab-df-container {\n",
              "      display:flex;\n",
              "      gap: 12px;\n",
              "    }\n",
              "\n",
              "    .colab-df-convert {\n",
              "      background-color: #E8F0FE;\n",
              "      border: none;\n",
              "      border-radius: 50%;\n",
              "      cursor: pointer;\n",
              "      display: none;\n",
              "      fill: #1967D2;\n",
              "      height: 32px;\n",
              "      padding: 0 0 0 0;\n",
              "      width: 32px;\n",
              "    }\n",
              "\n",
              "    .colab-df-convert:hover {\n",
              "      background-color: #E2EBFA;\n",
              "      box-shadow: 0px 1px 2px rgba(60, 64, 67, 0.3), 0px 1px 3px 1px rgba(60, 64, 67, 0.15);\n",
              "      fill: #174EA6;\n",
              "    }\n",
              "\n",
              "    .colab-df-buttons div {\n",
              "      margin-bottom: 4px;\n",
              "    }\n",
              "\n",
              "    [theme=dark] .colab-df-convert {\n",
              "      background-color: #3B4455;\n",
              "      fill: #D2E3FC;\n",
              "    }\n",
              "\n",
              "    [theme=dark] .colab-df-convert:hover {\n",
              "      background-color: #434B5C;\n",
              "      box-shadow: 0px 1px 3px 1px rgba(0, 0, 0, 0.15);\n",
              "      filter: drop-shadow(0px 1px 2px rgba(0, 0, 0, 0.3));\n",
              "      fill: #FFFFFF;\n",
              "    }\n",
              "  </style>\n",
              "\n",
              "    <script>\n",
              "      const buttonEl =\n",
              "        document.querySelector('#df-f077e47b-d7ef-453e-abb3-5b6f7595965a button.colab-df-convert');\n",
              "      buttonEl.style.display =\n",
              "        google.colab.kernel.accessAllowed ? 'block' : 'none';\n",
              "\n",
              "      async function convertToInteractive(key) {\n",
              "        const element = document.querySelector('#df-f077e47b-d7ef-453e-abb3-5b6f7595965a');\n",
              "        const dataTable =\n",
              "          await google.colab.kernel.invokeFunction('convertToInteractive',\n",
              "                                                    [key], {});\n",
              "        if (!dataTable) return;\n",
              "\n",
              "        const docLinkHtml = 'Like what you see? Visit the ' +\n",
              "          '<a target=\"_blank\" href=https://colab.research.google.com/notebooks/data_table.ipynb>data table notebook</a>'\n",
              "          + ' to learn more about interactive tables.';\n",
              "        element.innerHTML = '';\n",
              "        dataTable['output_type'] = 'display_data';\n",
              "        await google.colab.output.renderOutput(dataTable, element);\n",
              "        const docLink = document.createElement('div');\n",
              "        docLink.innerHTML = docLinkHtml;\n",
              "        element.appendChild(docLink);\n",
              "      }\n",
              "    </script>\n",
              "  </div>\n",
              "\n",
              "\n",
              "<div id=\"df-2bde8a16-857b-45f3-aae0-edd54bef8d79\">\n",
              "  <button class=\"colab-df-quickchart\" onclick=\"quickchart('df-2bde8a16-857b-45f3-aae0-edd54bef8d79')\"\n",
              "            title=\"Suggest charts\"\n",
              "            style=\"display:none;\">\n",
              "\n",
              "<svg xmlns=\"http://www.w3.org/2000/svg\" height=\"24px\"viewBox=\"0 0 24 24\"\n",
              "     width=\"24px\">\n",
              "    <g>\n",
              "        <path d=\"M19 3H5c-1.1 0-2 .9-2 2v14c0 1.1.9 2 2 2h14c1.1 0 2-.9 2-2V5c0-1.1-.9-2-2-2zM9 17H7v-7h2v7zm4 0h-2V7h2v10zm4 0h-2v-4h2v4z\"/>\n",
              "    </g>\n",
              "</svg>\n",
              "  </button>\n",
              "\n",
              "<style>\n",
              "  .colab-df-quickchart {\n",
              "      --bg-color: #E8F0FE;\n",
              "      --fill-color: #1967D2;\n",
              "      --hover-bg-color: #E2EBFA;\n",
              "      --hover-fill-color: #174EA6;\n",
              "      --disabled-fill-color: #AAA;\n",
              "      --disabled-bg-color: #DDD;\n",
              "  }\n",
              "\n",
              "  [theme=dark] .colab-df-quickchart {\n",
              "      --bg-color: #3B4455;\n",
              "      --fill-color: #D2E3FC;\n",
              "      --hover-bg-color: #434B5C;\n",
              "      --hover-fill-color: #FFFFFF;\n",
              "      --disabled-bg-color: #3B4455;\n",
              "      --disabled-fill-color: #666;\n",
              "  }\n",
              "\n",
              "  .colab-df-quickchart {\n",
              "    background-color: var(--bg-color);\n",
              "    border: none;\n",
              "    border-radius: 50%;\n",
              "    cursor: pointer;\n",
              "    display: none;\n",
              "    fill: var(--fill-color);\n",
              "    height: 32px;\n",
              "    padding: 0;\n",
              "    width: 32px;\n",
              "  }\n",
              "\n",
              "  .colab-df-quickchart:hover {\n",
              "    background-color: var(--hover-bg-color);\n",
              "    box-shadow: 0 1px 2px rgba(60, 64, 67, 0.3), 0 1px 3px 1px rgba(60, 64, 67, 0.15);\n",
              "    fill: var(--button-hover-fill-color);\n",
              "  }\n",
              "\n",
              "  .colab-df-quickchart-complete:disabled,\n",
              "  .colab-df-quickchart-complete:disabled:hover {\n",
              "    background-color: var(--disabled-bg-color);\n",
              "    fill: var(--disabled-fill-color);\n",
              "    box-shadow: none;\n",
              "  }\n",
              "\n",
              "  .colab-df-spinner {\n",
              "    border: 2px solid var(--fill-color);\n",
              "    border-color: transparent;\n",
              "    border-bottom-color: var(--fill-color);\n",
              "    animation:\n",
              "      spin 1s steps(1) infinite;\n",
              "  }\n",
              "\n",
              "  @keyframes spin {\n",
              "    0% {\n",
              "      border-color: transparent;\n",
              "      border-bottom-color: var(--fill-color);\n",
              "      border-left-color: var(--fill-color);\n",
              "    }\n",
              "    20% {\n",
              "      border-color: transparent;\n",
              "      border-left-color: var(--fill-color);\n",
              "      border-top-color: var(--fill-color);\n",
              "    }\n",
              "    30% {\n",
              "      border-color: transparent;\n",
              "      border-left-color: var(--fill-color);\n",
              "      border-top-color: var(--fill-color);\n",
              "      border-right-color: var(--fill-color);\n",
              "    }\n",
              "    40% {\n",
              "      border-color: transparent;\n",
              "      border-right-color: var(--fill-color);\n",
              "      border-top-color: var(--fill-color);\n",
              "    }\n",
              "    60% {\n",
              "      border-color: transparent;\n",
              "      border-right-color: var(--fill-color);\n",
              "    }\n",
              "    80% {\n",
              "      border-color: transparent;\n",
              "      border-right-color: var(--fill-color);\n",
              "      border-bottom-color: var(--fill-color);\n",
              "    }\n",
              "    90% {\n",
              "      border-color: transparent;\n",
              "      border-bottom-color: var(--fill-color);\n",
              "    }\n",
              "  }\n",
              "</style>\n",
              "\n",
              "  <script>\n",
              "    async function quickchart(key) {\n",
              "      const quickchartButtonEl =\n",
              "        document.querySelector('#' + key + ' button');\n",
              "      quickchartButtonEl.disabled = true;  // To prevent multiple clicks.\n",
              "      quickchartButtonEl.classList.add('colab-df-spinner');\n",
              "      try {\n",
              "        const charts = await google.colab.kernel.invokeFunction(\n",
              "            'suggestCharts', [key], {});\n",
              "      } catch (error) {\n",
              "        console.error('Error during call to suggestCharts:', error);\n",
              "      }\n",
              "      quickchartButtonEl.classList.remove('colab-df-spinner');\n",
              "      quickchartButtonEl.classList.add('colab-df-quickchart-complete');\n",
              "    }\n",
              "    (() => {\n",
              "      let quickchartButtonEl =\n",
              "        document.querySelector('#df-2bde8a16-857b-45f3-aae0-edd54bef8d79 button');\n",
              "      quickchartButtonEl.style.display =\n",
              "        google.colab.kernel.accessAllowed ? 'block' : 'none';\n",
              "    })();\n",
              "  </script>\n",
              "</div>\n",
              "\n",
              "    </div>\n",
              "  </div>\n"
            ],
            "application/vnd.google.colaboratory.intrinsic+json": {
              "type": "dataframe",
              "variable_name": "news_data",
              "summary": "{\n  \"name\": \"news_data\",\n  \"rows\": 6434,\n  \"fields\": [\n    {\n      \"column\": \"id\",\n      \"properties\": {\n        \"dtype\": \"number\",\n        \"std\": 1857,\n        \"min\": 0,\n        \"max\": 6433,\n        \"num_unique_values\": 6434,\n        \"samples\": [\n          2436,\n          3361,\n          233\n        ],\n        \"semantic_type\": \"\",\n        \"description\": \"\"\n      }\n    },\n    {\n      \"column\": \"title\",\n      \"properties\": {\n        \"dtype\": \"string\",\n        \"num_unique_values\": 6207,\n        \"samples\": [\n          \"Newt Says GOP Women Are Actually Thanking Him for Calling Out Megyn Kelly on \\u2018Sex Obsession\\u2019\",\n          \"The Ruling American Oligarchy\",\n          \"After Bashing Trump For Months, George Soros Just Got The Worst News Of His Life! - Big Blue Vision\"\n        ],\n        \"semantic_type\": \"\",\n        \"description\": \"\"\n      }\n    },\n    {\n      \"column\": \"author\",\n      \"properties\": {\n        \"dtype\": \"category\",\n        \"num_unique_values\": 2014,\n        \"samples\": [\n          \"Katrina Onstad\",\n          \"Ben Tanosborn\",\n          \"Chris \\\"Kikila\\\" Perrin\"\n        ],\n        \"semantic_type\": \"\",\n        \"description\": \"\"\n      }\n    },\n    {\n      \"column\": \"text\",\n      \"properties\": {\n        \"dtype\": \"string\",\n        \"num_unique_values\": 6352,\n        \"samples\": [\n          \"SAN JOSE, Calif.  \\u2014   Mark Few\\u2019s father, Norm, was a Presbyterian minister for more than 50 years. He entered hundreds of couples into the bonds of matrimony and comforted the bereaved at more than a thousand funerals. When Few is asked about his legacy at Gonzaga, where he has coached the past 28 seasons, he thinks about his father\\u2019s accomplishments, and not how he has won far more basketball games than he has lost. But results do matter to Few. His charge is to win, and in his 18 years at the helm, he has presided over Gonzaga\\u2019s ascension from spunky upstart to midmajor darling to certifiable contender. He does not need validation or vindication, but now that the Bulldogs have advanced to the first Final Four in their history, he has it. Until Saturday, when   Gonzaga clobbered Xavier,   in the West Regional final, Few had won the most N. C. A. A. tournament games (24) among coaches who had never reached the national semifinals. This best version of Few\\u2019s best team played with fury and purpose, burying Xavier\\u2019s bid to become the fourth No. 11 seed to reach the Final Four. Gonzaga ( ) made a dozen   and disrupted the Musketeers near the rim with a fierceness that Xavier had yet to encounter during its unlikely stampede to the round of 8. As a measure of Gonzaga\\u2019s offensive efficiency, consider that it allowed more points before halftime than it had in any other game this season  \\u2014   39  \\u2014   and it still led by 10. That lead ballooned to 17 less than five minutes into the second half, and although Xavier\\u2019s fans chanted, \\u201cWe believe,\\u201d they had no better luck forestalling the inevitable than its players did. Few has coached some superb teams, but none like this one, which has coalesced despite the fact that five members of its   rotation did not even wear a Gonzaga uniform last season. One transfer, Nigel   led Gonzaga with 23 points, and another, Johnathan Williams, added 19 points, 8 rebounds and 3 blocks and was selected as the region\\u2019s most outstanding player. The arrivals of all these talented players, accustomed to taking many shots and scoring loads of points, could have crashed the program, but the players subjugated their egos.   praised Josh Perkins, another point guard, for welcoming him. \\u201cWe know how good you are,\\u201d Perkins said of the team\\u2019s attitude, \\u201cbut we can be so much better together. \\u201d And here the Bulldogs are, going to the Final Four, where they will play next Saturday in Glendale, Ariz. against the winner of Sunday\\u2019s East Regional final between Florida and South Carolina. To get there, Gonzaga overwhelmed a university that resembled itself  \\u2014   a small Jesuit school with no Final Four experience where basketball, not football, drives the sporting culture. \\u201cThere\\u2019s no pro team there\\u2019s no football team,\\u201d Perkins said of Spokane, Wash. home to Gonzaga. \\u201cWe\\u2019re pretty much it. We\\u2019re the celebrities we\\u2019re the role models. It\\u2019s fun, but you\\u2019ve got to win basketball games, or it\\u2019s not so good. \\u201d On Perkins\\u2019s first day on campus, he was recognized at a Chipotle restaurant. That introduced him to the intensity of Gonzaga basketball fandom, which was on display not only at San Jose\\u2019s SAP Center  \\u2014   where fans packed several of the lower sections  \\u2014   but also back in Spokane. After the game, players in the locker room passed around a cellphone showing scenes of people there jumping around. \\u201cSpokane\\u2019s lit!\\u201d someone shouted. To Perkins\\u2019s point, things have been good at Gonzaga far more often than they have not  \\u2014   28 victories last season, 35 the season before, 29 in   32 in  . Aside from Gonzaga, only Wisconsin and North Carolina have reached the round of 16 the past three years. That consistency is the envy of so many programs, but that popular benchmark of greatness  \\u2014   the Final Four  \\u2014   had managed to elude the Bulldogs. They lost in their two previous regional finals, in 1999 and 2015, when they were underdogs, and the only other time they were seeded No. 1, in 2013, they lost to Wichita State in the second round. Gonzaga\\u2019s strong alumni base remains close to the program. Former players, like Kelly Olynyk, Jeremy Pargo and Matt Santangelo, have sent out encouraging text messages: \\u201cHey, we couldn\\u2019t do it, so you guys do it. \\u201d The Bulldogs did it by silencing a team that had trampled over one favorite after another, baffling   Maryland,   Florida State and, on Thursday,   Arizona with impenetrable defense. Gonzaga detonated that defense early and often. \\u201cI mean, they\\u2019re really good,\\u201d Xavier Coach Chris Mack said. \\u201cSometimes, you just lose to a better team. \\u201d That was about as close as Mack has gotten this postseason to acknowledging that a better team existed than his Musketeers, who proved they were far better than their seeding might suggest. On Tuesday, before they flew to San Jose, Mack showed players a video clip of confetti cascading onto a court. He asked how badly they wanted to experience that themselves, and then a ladder appeared. The Musketeers acted out a traditional   celebration, hooting and hollering as if in a packed arena instead of their auxiliary gym. They then placed the strands in a jar that contained the detritus of another motivational ploy, the ashes from the burning of February calendars that the staff had printed  \\u2014   with the results from Xavier\\u2019s five straight losses that month, all to teams that went on to make the N. C. A. A. tournament. Mack tried willing that act into a sequel here, but soon after the buzzer sounded Saturday, after Gonzaga\\u2019s players danced at center court, it was his counterpart who climbed the ladder. Few clipped the net, turned to the crowd and hinted at the possibilities in Arizona. \\u201cMight as well win it,\\u201d he said.\",\n          \"Elon Musk entertained the 2017 TED Conference by previewing how Tesla intends to solve almost all vehicle congestion by massive boring under cities to create an   tunnel transport system. [TED (Technology, Entertainment, Design) is a   media group that every year since 1990 has created and freely distributed a series of   interviews that feature innovative TED figures under the motto \\u201cideas worth spreading. \\u201d  Musk, who originally hails from Canada, sat down with TED\\u2019s Head Curator Chris Anderson in Vancouver to talk about solving his new The Boring Company which will solve   transportation congestion through a system of robotic transporter sleds that will lower vehicles to underground tunnels, and then whisk them to their destination at 130 miles per hour. Musk gave as an example the   of Los Angeles, where an   trip from downtown to Westwood usually takes about 40 minutes. Riding in his electric powered tunnels, travel time would be slashed to a 5 to   hop. Andersson asked him why he was not onboard for the development of flying cars that have been all the rage lately, due to announcements by Google, Uber, and others that the world of the   series the Jetsons is about to arrive. Musk answered, \\u201cI do rockets, so I like things that fly. There\\u2019s a challenge of flying cars in that they\\u2019ll be quite noisy. If something\\u2019s flying over your head, a whole bunch of flying cars going all over the place, that is not an   situation   \\u2026     You\\u2019ll be thinking, \\u2018Did they service their hubcap, or is it going to come off and guillotine me? \\u2019\\u201d Musk referred to the jumbotron and played a video simulation of how a vehicle would drive on to a robotic electric powered cart that would be lowered to the appropriate tunnel level and then quickly accelerate. Musk commented that the greatest advantage of a   system is that the carts can move at unlimited speeds in   tunnels without generating huge externality complaints. Andersson asks Musk how tunnels would meld with Musk\\u2019s Hyperloop initiative. Musk commented that the SpaceX\\u2019s Hyperloop test track being built in Reno, Nevada, adjacent to his Gigafactory is already the second biggest vacuum chamber in the world. The only one bigger is the   Large Hadron Collider under the France \\u2014  Switzerland border that is used as an atomic particle accelerator that cost $7. 5 billion. For transportation, Musk believes a vacuum tunnel system can transport people, freight, and vehicles in   capsules at a fraction of the current time and costs. Musk said that based on initial Hyperloop testing, \\u201cWe\\u2019re cautiously optimistic that it\\u2019ll be faster than the world\\u2019s fastest bullet train, even over a .  stretch. \\u201d Asked by Andersson, \\u201cWhat\\u2019s happening at Tesla?\\u201d Musk said that the company\\u2019s $35, 000 Tesla Model 3 will arrive in July, and it will have the same autopilot features as Tesla\\u2019s $100, 000 vehicles that claim to offer   driving. \\u201cOnce you solve cameras for vision, autonomy is solved if you don\\u2019t solve vision, it\\u2019s not solved   \\u2026     You can absolutely be superhuman with just cameras. \\u201d Musk stated that Tesla will have a large enough charging network that they will conduct a   LA to New York test national test by the end of 2017: \\u201cNovember or December of this year, we should be able to go from a parking lot in California to a parking lot in New York, no controls touched at any point during the entire journey. \\u201d Musk displayed the first picture of the Tesla Semi truck, which he recently unveiled as part of his Master Plan, Part Deux: \\u201cWith the Tesla Semi, we want to show that an electric truck actually can   any diesel semi. If you had a tug of war competition, the Tesla Semi will tug the diesel semi uphill. \\u201d Musk suggests will be quick and nimble, \\u201clike a sports car,\\u201d he says. Musk sees solar electricity as the fuel source of the future that will powerhouses, vehicles and almost all terrestrial corporate activity. With the spiking demand, Tesla plans to announce four more Gigafactories by the end of the year.\",\n          \"WARWICK, R. I.  \\u2014   Most years, the presidential primary here is a   affair, with candidates racing past the state like motorists taking the shortest route from Boston to New York. But this unpredictable election season has turned even Rhode Island\\u2019s late primary and paltry pile of delegates into a valued prize, putting this small state into the primary spotlight before its vote Tuesday. \\u201cFor the first time in a very long time,\\u201d Larry Berman, an aide to the state\\u2019s House speaker, said merrily, \\u201cRhode Island\\u2019s primary actually matters. \\u201d Campaigns of yore would be forgiven for paying little attention to Rhode Island, which has 33 Democratic delegates and just 19 on the Republican side. Charles Bullock, a professor of political science at the University of Georgia, said Rhode Island tended to play a significant role in the primary season only in close contests like the one in 1976 between Ronald Reagan and Gerald Ford, or in 2008, when Hillary Clinton was trying to make up ground lost to Barack Obama. But, Professor Bullock said, with Donald J. Trump \\u201ctrying to get to 1, 237 on the Republican side, then getting 19 may be important. \\u201d On the Democratic side, he said, \\u201cBernie Sanders needs to get everything he possibly can. \\u201d Both Mrs. Clinton and Gov. John Kasich visited the state on Saturday, Mr. Sanders held a rally in Providence on Sunday morning and Mr. Trump scheduled an event for Monday, delighting the politically minded in a state accustomed to observer status in presidential politics (and other things, too). \\u201cUsually the die has been cast, and it\\u2019s just really a formality,\\u201d said Bob Durant, 51, a lawyer who was making phone calls at Mr. Kasich\\u2019s campaign headquarters here last week. But this year, with candidates still scrapping for delegates, \\u201cliterally every vote will count,\\u201d Mr. Durant said. A contested presidential primary in Rhode Island  \\u2014   a compact state that, with about one million people, has the population of a large city  \\u2014   is by necessity a cozy affair. \\u201cThe circle of leaders in Rhode Island is very small, very active  \\u2014   and absolutely everyone knows everyone else,\\u201d said James A. Morone, the director of the Taubman Center for American Politics and Policy at Brown University. \\u201cIt\\u2019s like a big Italian family. \\u201d The campaigns for all three remaining Republican candidates, for example, are working out of the same shopping plaza: A strip mall between an airport and a clotted main road here in   Warwick. One afternoon last week, people were assembling signs in Mr. Trump\\u2019s campaign office, decked out with a cardboard cutout of the candidate with a bald eagle. Several doors away, volunteers for Senator Ted Cruz were readying mailers, and, on another side of the plaza, a handful of volunteers were making phone calls for Mr. Kasich. Jean Hudson, 65, stood in the parking lot in the middle of it all, and said she was delighted that the uptick in political significance had finally gotten her home state coverage on Fox News, her cable news network of choice. \\u201cI hear our name mentioned more than usual,\\u201d Ms. Hudson said, giddily. \\u201cEven when we have hurricanes and storms they talk about Mass. and Connecticut, never Rhode Island. It\\u2019s like we don\\u2019t exist. \\u201d The state\\u2019s Democratic establishment has thrown its weight for the most part behind Mrs. Clinton  \\u2014   and that, too, has come with a Lil\\u2019 Rhody touch. When Bill Clinton was campaigning last week, also here in Warwick, the state\\u2019s speaker of the House, Nicholas A. Mattiello, called ahead to a pizzeria in nearby Cranston to make sure there would be vegan food for the former president, now herbivore in chief. Even Mr. Morone has found himself fielding questions on the primary from strangers who recognize him from his television appearances. It is not an entirely uncommon occurrence in such a small state, although Mr. Morone is more accustomed to being asked about local races than national ones. \\u201cI walked into the train station this morning and I had someone come up to me and say, \\u2018What\\u2019s going on? Who\\u2019s going to win Rhode Island?\\u2019 And I just usually don\\u2019t get that kind of stuff,\\u201d Mr. Morone said. The primary here could provide observers with valuable information about the dynamics of the race because, Mr. Morone said, Rhode Island is demographically similar to Massachusetts, where Mr. Trump pulled off a landslide victory in March. So, Tuesday\\u2019s primary  \\u2014   one of five on the East Coast  \\u2014   will be another test of his popularity in a state with a large portion of white, independent or   voters. \\u201cIt\\u2019s a very good measure of what\\u2019s happened to the Trump campaign as he\\u2019s taken this kind of withering attack that he\\u2019s been under,\\u201d Mr. Morone said. The Democratic Party\\u2019s candidate has won Rhode Island in nine of the past 10 presidential general elections (Ronald Reagan\\u2019s 1984   victory being the exception). Wendy Schiller, a   professor at Brown, described Rhode Island as a \\u201cunion,      Democratic state\\u201d  \\u2014   but one where Mr. Trump could appeal to voters. \\u201cIf Trump does really well here,\\u201d she said, \\u201cif Hillary Clinton loses here to Bernie Sanders, it really does suggest a way in which the Trump campaign can try to peel off a chunk of Democratic voters in November. \\u201d Punditry aside, some Rhode Islanders are simply trying to have some fun with their moment in the presidential spotlight. Take Denise Rachiele, who was surprised to see a presidential campaign office  \\u2014   Mr. Trump\\u2019s  \\u2014   pop up a few doors down from her pet store, All About Pets. Now, her windows are decorated with fake campaign posters for her cat, Stump. \\u201cHe felt he was more qualified, or at least as qualified, as Mr. Trump,\\u201d joked Ms. Rachiele, who said she had not decided whom she would support on Tuesday.\"\n        ],\n        \"semantic_type\": \"\",\n        \"description\": \"\"\n      }\n    },\n    {\n      \"column\": \"label\",\n      \"properties\": {\n        \"dtype\": \"number\",\n        \"std\": 0,\n        \"min\": 0,\n        \"max\": 1,\n        \"num_unique_values\": 2,\n        \"samples\": [\n          0,\n          1\n        ],\n        \"semantic_type\": \"\",\n        \"description\": \"\"\n      }\n    },\n    {\n      \"column\": \"content\",\n      \"properties\": {\n        \"dtype\": \"string\",\n        \"num_unique_values\": 6368,\n        \"samples\": [\n          \"Breitbart News Breitbart\\u2019s Frances Martel in Teen Vogue: Trump\\u2019s Support for Oppressed Latinos \\u2019A Big Change\\u2019 from Obama - Breitbart\",\n          \"Tony Lee Exclusive: Source Says Megyn Kelly \\u2018Would Not Be Welcomed Back\\u2019 at Fox News\"\n        ],\n        \"semantic_type\": \"\",\n        \"description\": \"\"\n      }\n    }\n  ]\n}"
            }
          },
          "metadata": {},
          "execution_count": 47
        }
      ]
    },
    {
      "cell_type": "code",
      "source": [
        "#separating feature and target (feature-->content & target-->label)\n",
        "x=news_data.drop(columns='label',axis=1)\n",
        "y=news_data['label']"
      ],
      "metadata": {
        "id": "SwoNOQ1huztZ"
      },
      "execution_count": null,
      "outputs": []
    },
    {
      "cell_type": "code",
      "source": [
        "print(x)"
      ],
      "metadata": {
        "colab": {
          "base_uri": "https://localhost:8080/"
        },
        "id": "eEfC3o5EvlNZ",
        "outputId": "c109e9c0-b876-46cd-dabb-7d962a06d2f0"
      },
      "execution_count": null,
      "outputs": [
        {
          "output_type": "stream",
          "name": "stdout",
          "text": [
            "        id                                              title  \\\n",
            "0        0  House Dem Aide: We Didn’t Even See Comey’s Let...   \n",
            "1        1  FLYNN: Hillary Clinton, Big Woman on Campus - ...   \n",
            "2        2                  Why the Truth Might Get You Fired   \n",
            "3        3  15 Civilians Killed In Single US Airstrike Hav...   \n",
            "4        4  Iranian woman jailed for fictional unpublished...   \n",
            "...    ...                                                ...   \n",
            "6429  6429  Moveable Feast Cafe 2016/10/28 … Open Thread |...   \n",
            "6430  6430  Hajj Prep: Search Soul, Buy Sturdy Shoes, Pay ...   \n",
            "6431  6431  10 radikale Vorhaben, die Donald Trump sofort ...   \n",
            "6432  6432                               Little Blue Balls...   \n",
            "6433  6433  WATCH: Louis CK’s EPIC Answer on Trump vs. Hil...   \n",
            "\n",
            "                                   author  \\\n",
            "0                           Darrell Lucus   \n",
            "1                         Daniel J. Flynn   \n",
            "2                      Consortiumnews.com   \n",
            "3                         Jessica Purkiss   \n",
            "4                          Howard Portnoy   \n",
            "...                                   ...   \n",
            "6429                         Herb Swanson   \n",
            "6430                           Diaa Hadid   \n",
            "6431  noreply@blogger.com (Der Postillon)   \n",
            "6432                              recrisp   \n",
            "6433                          Grant Stern   \n",
            "\n",
            "                                                   text  \\\n",
            "0     House Dem Aide: We Didn’t Even See Comey’s Let...   \n",
            "1     Ever get the feeling your life circles the rou...   \n",
            "2     Why the Truth Might Get You Fired October 29, ...   \n",
            "3     Videos 15 Civilians Killed In Single US Airstr...   \n",
            "4     Print \\nAn Iranian woman has been sentenced to...   \n",
            "...                                                 ...   \n",
            "6429  Leave a Reply Click here to get more info on f...   \n",
            "6430  JIDDA, Saudi Arabia  —   My father was on the ...   \n",
            "6431  Donnerstag, 10. November 2016 10 radikale Vorh...   \n",
            "6432  link Years ago I came here for the UFOs and af...   \n",
            "6433  Comments \\nConan O’Brien asked comedian Louis ...   \n",
            "\n",
            "                                                content  \n",
            "0     Darrell Lucus House Dem Aide: We Didn’t Even S...  \n",
            "1     Daniel J. Flynn FLYNN: Hillary Clinton, Big Wo...  \n",
            "2     Consortiumnews.com Why the Truth Might Get You...  \n",
            "3     Jessica Purkiss 15 Civilians Killed In Single ...  \n",
            "4     Howard Portnoy Iranian woman jailed for fictio...  \n",
            "...                                                 ...  \n",
            "6429  Herb Swanson Moveable Feast Cafe 2016/10/28 … ...  \n",
            "6430  Diaa Hadid Hajj Prep: Search Soul, Buy Sturdy ...  \n",
            "6431  noreply@blogger.com (Der Postillon) 10 radikal...  \n",
            "6432                       recrisp Little Blue Balls...  \n",
            "6433  Grant Stern WATCH: Louis CK’s EPIC Answer on T...  \n",
            "\n",
            "[6434 rows x 5 columns]\n"
          ]
        }
      ]
    },
    {
      "cell_type": "code",
      "source": [
        "print(y)"
      ],
      "metadata": {
        "colab": {
          "base_uri": "https://localhost:8080/"
        },
        "id": "tZHZxZrAvr42",
        "outputId": "1a694650-9fc8-42b0-99fd-ddfa953b2d77"
      },
      "execution_count": null,
      "outputs": [
        {
          "output_type": "stream",
          "name": "stdout",
          "text": [
            "0       1\n",
            "1       0\n",
            "2       1\n",
            "3       1\n",
            "4       1\n",
            "       ..\n",
            "6429    1\n",
            "6430    0\n",
            "6431    1\n",
            "6432    1\n",
            "6433    1\n",
            "Name: label, Length: 6434, dtype: int64\n"
          ]
        }
      ]
    },
    {
      "cell_type": "markdown",
      "source": [
        "Stemming\n",
        "\n",
        "Stemming is the process of reducing a word to its rootword\n",
        "\n",
        "exapmle : actor ,actress, acting --> act"
      ],
      "metadata": {
        "id": "3XKO1rJUvwNC"
      }
    },
    {
      "cell_type": "code",
      "source": [
        "port_stem = PorterStemmer()"
      ],
      "metadata": {
        "id": "3ruBHhpDvuwq"
      },
      "execution_count": null,
      "outputs": []
    },
    {
      "cell_type": "code",
      "source": [
        "def stemming(content):\n",
        "  content=str(content)\n",
        "  stemmed_content = re.sub('[^a-zA-Z]',' ',content)\n",
        "  stemmed_content = stemmed_content.lower()\n",
        "  stemmed_content = stemmed_content.split()\n",
        "  stemmed_content = [port_stem.stem(word) for word in stemmed_content if not word in stopwords.words('english')]\n",
        "  stemmed_content = ' '.join(stemmed_content)\n",
        "  return stemmed_content"
      ],
      "metadata": {
        "id": "Mw-F48c7wHW8"
      },
      "execution_count": null,
      "outputs": []
    },
    {
      "cell_type": "code",
      "source": [
        "news_data['content'] = news_data['content'].apply(stemming)"
      ],
      "metadata": {
        "id": "MDfLyd6syQgY"
      },
      "execution_count": null,
      "outputs": []
    },
    {
      "cell_type": "code",
      "source": [
        "print(news_data['content'])"
      ],
      "metadata": {
        "colab": {
          "base_uri": "https://localhost:8080/"
        },
        "id": "_duyunMCyoqY",
        "outputId": "a1509959-2f9e-45e4-a9c6-1bf7b962504e"
      },
      "execution_count": null,
      "outputs": [
        {
          "output_type": "stream",
          "name": "stdout",
          "text": [
            "0       darrel lucu hous dem aid even see comey letter...\n",
            "1       daniel j flynn flynn hillari clinton big woman...\n",
            "2                  consortiumnew com truth might get fire\n",
            "3       jessica purkiss civilian kill singl us airstri...\n",
            "4       howard portnoy iranian woman jail fiction unpu...\n",
            "                              ...                        \n",
            "6429    herb swanson moveabl feast cafe open thread vi...\n",
            "6430    diaa hadid hajj prep search soul buy sturdi sh...\n",
            "6431    norepli blogger com der postillon radikal vorh...\n",
            "6432                              recrisp littl blue ball\n",
            "6433    grant stern watch loui ck epic answer trump vs...\n",
            "Name: content, Length: 6434, dtype: object\n"
          ]
        }
      ]
    },
    {
      "cell_type": "code",
      "source": [
        "x= news_data['content'].values\n",
        "y= news_data['label'].values\n"
      ],
      "metadata": {
        "id": "vo1QB3b5yxoC"
      },
      "execution_count": null,
      "outputs": []
    },
    {
      "cell_type": "code",
      "source": [
        "print(x)"
      ],
      "metadata": {
        "colab": {
          "base_uri": "https://localhost:8080/"
        },
        "id": "FNFBYAUwy_o6",
        "outputId": "47b95e47-1371-4244-bd4f-e781418d7f5b"
      },
      "execution_count": null,
      "outputs": [
        {
          "output_type": "stream",
          "name": "stdout",
          "text": [
            "['darrel lucu hous dem aid even see comey letter jason chaffetz tweet'\n",
            " 'daniel j flynn flynn hillari clinton big woman campu breitbart'\n",
            " 'consortiumnew com truth might get fire' ...\n",
            " 'norepli blogger com der postillon radikal vorhaben die donald trump sofort nach amtsantritt durchsetzen wird'\n",
            " 'recrisp littl blue ball'\n",
            " 'grant stern watch loui ck epic answer trump vs hillari']\n"
          ]
        }
      ]
    },
    {
      "cell_type": "code",
      "source": [
        "print(y)"
      ],
      "metadata": {
        "colab": {
          "base_uri": "https://localhost:8080/"
        },
        "id": "JIR2qpOtzCB0",
        "outputId": "f0346303-7acb-4da7-e8fb-d75c57d7a45a"
      },
      "execution_count": null,
      "outputs": [
        {
          "output_type": "stream",
          "name": "stdout",
          "text": [
            "[1 0 1 ... 1 1 1]\n"
          ]
        }
      ]
    },
    {
      "cell_type": "code",
      "source": [
        "y.shape"
      ],
      "metadata": {
        "colab": {
          "base_uri": "https://localhost:8080/"
        },
        "id": "kO84_MqVzED6",
        "outputId": "ce1f4deb-c3f6-44f6-ff7f-f5adc68e9e9b"
      },
      "execution_count": null,
      "outputs": [
        {
          "output_type": "execute_result",
          "data": {
            "text/plain": [
              "(6434,)"
            ]
          },
          "metadata": {},
          "execution_count": 59
        }
      ]
    },
    {
      "cell_type": "code",
      "source": [
        "#coverting the textual data to feature vectors\n",
        "vectorizer = TfidfVectorizer()\n",
        "# Convert x to a list of strings if it's not already\n",
        "x = news_data['content'].tolist()  # or x = [str(item) for item in x] if x is a NumPy array\n",
        "vectorizer.fit(x)\n",
        "x = vectorizer.transform(x)"
      ],
      "metadata": {
        "id": "GKdxShqAzG4L"
      },
      "execution_count": null,
      "outputs": []
    },
    {
      "cell_type": "code",
      "source": [
        "print(x)"
      ],
      "metadata": {
        "colab": {
          "base_uri": "https://localhost:8080/"
        },
        "id": "l9KmMJV_1NyD",
        "outputId": "71587daa-6c91-4a6b-e289-43c3baee0eca"
      },
      "execution_count": null,
      "outputs": [
        {
          "output_type": "stream",
          "name": "stdout",
          "text": [
            "  (0, 177)\t0.2766579900395751\n",
            "  (0, 1498)\t0.3943036065913846\n",
            "  (0, 1781)\t0.24877398104144344\n",
            "  (0, 2158)\t0.33987992132811795\n",
            "  (0, 2274)\t0.2675471171462601\n",
            "  (0, 2956)\t0.2351477798422862\n",
            "  (0, 4169)\t0.22182252043190626\n",
            "  (0, 4568)\t0.25193486007204036\n",
            "  (0, 5114)\t0.29650091018003516\n",
            "  (0, 5281)\t0.33987992132811795\n",
            "  (0, 7941)\t0.2580885725874065\n",
            "  (0, 9269)\t0.2845785714050832\n",
            "  (1, 913)\t0.28621032960610304\n",
            "  (1, 1149)\t0.15224483337184208\n",
            "  (1, 1350)\t0.3761194137731387\n",
            "  (1, 1688)\t0.1886609196257113\n",
            "  (1, 2140)\t0.27283241553682147\n",
            "  (1, 3293)\t0.7236601759089311\n",
            "  (1, 4069)\t0.1872863010460368\n",
            "  (1, 9868)\t0.290944438344452\n",
            "  (2, 1769)\t0.3207559383023785\n",
            "  (2, 1875)\t0.45642008971120857\n",
            "  (2, 3221)\t0.3840475510786025\n",
            "  (2, 3572)\t0.3410144523438057\n",
            "  (2, 5690)\t0.500306231102918\n",
            "  :\t:\n",
            "  (6431, 2396)\t0.20263947398421772\n",
            "  (6431, 2537)\t0.14668710689578726\n",
            "  (6431, 2635)\t0.32503057198874075\n",
            "  (6431, 5960)\t0.32503057198874075\n",
            "  (6431, 6168)\t0.18493838926712514\n",
            "  (6431, 6877)\t0.2318264986806305\n",
            "  (6431, 7160)\t0.32503057198874075\n",
            "  (6431, 8336)\t0.3002085038829963\n",
            "  (6431, 9217)\t0.0981045679823698\n",
            "  (6431, 9616)\t0.32503057198874075\n",
            "  (6431, 9842)\t0.32503057198874075\n",
            "  (6432, 679)\t0.4876961006895981\n",
            "  (6432, 1017)\t0.4493052800178185\n",
            "  (6432, 5197)\t0.45699818574376766\n",
            "  (6432, 7295)\t0.5928152637602846\n",
            "  (6433, 364)\t0.34778824616194787\n",
            "  (6433, 1643)\t0.3849871937215023\n",
            "  (6433, 2871)\t0.34778824616194787\n",
            "  (6433, 3723)\t0.35228492354573787\n",
            "  (6433, 4069)\t0.17789326793138013\n",
            "  (6433, 5261)\t0.36281270308191355\n",
            "  (6433, 8568)\t0.35725576977512985\n",
            "  (6433, 9217)\t0.1292495884697714\n",
            "  (6433, 9627)\t0.3331553218044638\n",
            "  (6433, 9697)\t0.2591489592478365\n"
          ]
        }
      ]
    },
    {
      "cell_type": "markdown",
      "source": [
        "Splitting the training and testing data"
      ],
      "metadata": {
        "id": "6rktjTAdSsYW"
      }
    },
    {
      "cell_type": "code",
      "source": [
        "x_train,x_test,y_train,y_test= train_test_split(x,y,test_size=0.2,stratify=y,random_state=2)"
      ],
      "metadata": {
        "id": "Sww6aaM0S456"
      },
      "execution_count": null,
      "outputs": []
    },
    {
      "cell_type": "markdown",
      "source": [
        "Training the Model : Logistic Regression"
      ],
      "metadata": {
        "id": "hpl3lVXAUCV2"
      }
    },
    {
      "cell_type": "code",
      "source": [
        "model = LogisticRegression()"
      ],
      "metadata": {
        "id": "OmcAgRIUUtpm"
      },
      "execution_count": null,
      "outputs": []
    },
    {
      "cell_type": "code",
      "source": [
        "model.fit(x_train,y_train)"
      ],
      "metadata": {
        "colab": {
          "base_uri": "https://localhost:8080/",
          "height": 79
        },
        "id": "mNLZN-u9VG14",
        "outputId": "628e0e94-6b3a-48ce-b232-eef2d4959a9d"
      },
      "execution_count": null,
      "outputs": [
        {
          "output_type": "execute_result",
          "data": {
            "text/plain": [
              "LogisticRegression()"
            ],
            "text/html": [
              "<style>#sk-container-id-1 {\n",
              "  /* Definition of color scheme common for light and dark mode */\n",
              "  --sklearn-color-text: #000;\n",
              "  --sklearn-color-text-muted: #666;\n",
              "  --sklearn-color-line: gray;\n",
              "  /* Definition of color scheme for unfitted estimators */\n",
              "  --sklearn-color-unfitted-level-0: #fff5e6;\n",
              "  --sklearn-color-unfitted-level-1: #f6e4d2;\n",
              "  --sklearn-color-unfitted-level-2: #ffe0b3;\n",
              "  --sklearn-color-unfitted-level-3: chocolate;\n",
              "  /* Definition of color scheme for fitted estimators */\n",
              "  --sklearn-color-fitted-level-0: #f0f8ff;\n",
              "  --sklearn-color-fitted-level-1: #d4ebff;\n",
              "  --sklearn-color-fitted-level-2: #b3dbfd;\n",
              "  --sklearn-color-fitted-level-3: cornflowerblue;\n",
              "\n",
              "  /* Specific color for light theme */\n",
              "  --sklearn-color-text-on-default-background: var(--sg-text-color, var(--theme-code-foreground, var(--jp-content-font-color1, black)));\n",
              "  --sklearn-color-background: var(--sg-background-color, var(--theme-background, var(--jp-layout-color0, white)));\n",
              "  --sklearn-color-border-box: var(--sg-text-color, var(--theme-code-foreground, var(--jp-content-font-color1, black)));\n",
              "  --sklearn-color-icon: #696969;\n",
              "\n",
              "  @media (prefers-color-scheme: dark) {\n",
              "    /* Redefinition of color scheme for dark theme */\n",
              "    --sklearn-color-text-on-default-background: var(--sg-text-color, var(--theme-code-foreground, var(--jp-content-font-color1, white)));\n",
              "    --sklearn-color-background: var(--sg-background-color, var(--theme-background, var(--jp-layout-color0, #111)));\n",
              "    --sklearn-color-border-box: var(--sg-text-color, var(--theme-code-foreground, var(--jp-content-font-color1, white)));\n",
              "    --sklearn-color-icon: #878787;\n",
              "  }\n",
              "}\n",
              "\n",
              "#sk-container-id-1 {\n",
              "  color: var(--sklearn-color-text);\n",
              "}\n",
              "\n",
              "#sk-container-id-1 pre {\n",
              "  padding: 0;\n",
              "}\n",
              "\n",
              "#sk-container-id-1 input.sk-hidden--visually {\n",
              "  border: 0;\n",
              "  clip: rect(1px 1px 1px 1px);\n",
              "  clip: rect(1px, 1px, 1px, 1px);\n",
              "  height: 1px;\n",
              "  margin: -1px;\n",
              "  overflow: hidden;\n",
              "  padding: 0;\n",
              "  position: absolute;\n",
              "  width: 1px;\n",
              "}\n",
              "\n",
              "#sk-container-id-1 div.sk-dashed-wrapped {\n",
              "  border: 1px dashed var(--sklearn-color-line);\n",
              "  margin: 0 0.4em 0.5em 0.4em;\n",
              "  box-sizing: border-box;\n",
              "  padding-bottom: 0.4em;\n",
              "  background-color: var(--sklearn-color-background);\n",
              "}\n",
              "\n",
              "#sk-container-id-1 div.sk-container {\n",
              "  /* jupyter's `normalize.less` sets `[hidden] { display: none; }`\n",
              "     but bootstrap.min.css set `[hidden] { display: none !important; }`\n",
              "     so we also need the `!important` here to be able to override the\n",
              "     default hidden behavior on the sphinx rendered scikit-learn.org.\n",
              "     See: https://github.com/scikit-learn/scikit-learn/issues/21755 */\n",
              "  display: inline-block !important;\n",
              "  position: relative;\n",
              "}\n",
              "\n",
              "#sk-container-id-1 div.sk-text-repr-fallback {\n",
              "  display: none;\n",
              "}\n",
              "\n",
              "div.sk-parallel-item,\n",
              "div.sk-serial,\n",
              "div.sk-item {\n",
              "  /* draw centered vertical line to link estimators */\n",
              "  background-image: linear-gradient(var(--sklearn-color-text-on-default-background), var(--sklearn-color-text-on-default-background));\n",
              "  background-size: 2px 100%;\n",
              "  background-repeat: no-repeat;\n",
              "  background-position: center center;\n",
              "}\n",
              "\n",
              "/* Parallel-specific style estimator block */\n",
              "\n",
              "#sk-container-id-1 div.sk-parallel-item::after {\n",
              "  content: \"\";\n",
              "  width: 100%;\n",
              "  border-bottom: 2px solid var(--sklearn-color-text-on-default-background);\n",
              "  flex-grow: 1;\n",
              "}\n",
              "\n",
              "#sk-container-id-1 div.sk-parallel {\n",
              "  display: flex;\n",
              "  align-items: stretch;\n",
              "  justify-content: center;\n",
              "  background-color: var(--sklearn-color-background);\n",
              "  position: relative;\n",
              "}\n",
              "\n",
              "#sk-container-id-1 div.sk-parallel-item {\n",
              "  display: flex;\n",
              "  flex-direction: column;\n",
              "}\n",
              "\n",
              "#sk-container-id-1 div.sk-parallel-item:first-child::after {\n",
              "  align-self: flex-end;\n",
              "  width: 50%;\n",
              "}\n",
              "\n",
              "#sk-container-id-1 div.sk-parallel-item:last-child::after {\n",
              "  align-self: flex-start;\n",
              "  width: 50%;\n",
              "}\n",
              "\n",
              "#sk-container-id-1 div.sk-parallel-item:only-child::after {\n",
              "  width: 0;\n",
              "}\n",
              "\n",
              "/* Serial-specific style estimator block */\n",
              "\n",
              "#sk-container-id-1 div.sk-serial {\n",
              "  display: flex;\n",
              "  flex-direction: column;\n",
              "  align-items: center;\n",
              "  background-color: var(--sklearn-color-background);\n",
              "  padding-right: 1em;\n",
              "  padding-left: 1em;\n",
              "}\n",
              "\n",
              "\n",
              "/* Toggleable style: style used for estimator/Pipeline/ColumnTransformer box that is\n",
              "clickable and can be expanded/collapsed.\n",
              "- Pipeline and ColumnTransformer use this feature and define the default style\n",
              "- Estimators will overwrite some part of the style using the `sk-estimator` class\n",
              "*/\n",
              "\n",
              "/* Pipeline and ColumnTransformer style (default) */\n",
              "\n",
              "#sk-container-id-1 div.sk-toggleable {\n",
              "  /* Default theme specific background. It is overwritten whether we have a\n",
              "  specific estimator or a Pipeline/ColumnTransformer */\n",
              "  background-color: var(--sklearn-color-background);\n",
              "}\n",
              "\n",
              "/* Toggleable label */\n",
              "#sk-container-id-1 label.sk-toggleable__label {\n",
              "  cursor: pointer;\n",
              "  display: flex;\n",
              "  width: 100%;\n",
              "  margin-bottom: 0;\n",
              "  padding: 0.5em;\n",
              "  box-sizing: border-box;\n",
              "  text-align: center;\n",
              "  align-items: start;\n",
              "  justify-content: space-between;\n",
              "  gap: 0.5em;\n",
              "}\n",
              "\n",
              "#sk-container-id-1 label.sk-toggleable__label .caption {\n",
              "  font-size: 0.6rem;\n",
              "  font-weight: lighter;\n",
              "  color: var(--sklearn-color-text-muted);\n",
              "}\n",
              "\n",
              "#sk-container-id-1 label.sk-toggleable__label-arrow:before {\n",
              "  /* Arrow on the left of the label */\n",
              "  content: \"▸\";\n",
              "  float: left;\n",
              "  margin-right: 0.25em;\n",
              "  color: var(--sklearn-color-icon);\n",
              "}\n",
              "\n",
              "#sk-container-id-1 label.sk-toggleable__label-arrow:hover:before {\n",
              "  color: var(--sklearn-color-text);\n",
              "}\n",
              "\n",
              "/* Toggleable content - dropdown */\n",
              "\n",
              "#sk-container-id-1 div.sk-toggleable__content {\n",
              "  max-height: 0;\n",
              "  max-width: 0;\n",
              "  overflow: hidden;\n",
              "  text-align: left;\n",
              "  /* unfitted */\n",
              "  background-color: var(--sklearn-color-unfitted-level-0);\n",
              "}\n",
              "\n",
              "#sk-container-id-1 div.sk-toggleable__content.fitted {\n",
              "  /* fitted */\n",
              "  background-color: var(--sklearn-color-fitted-level-0);\n",
              "}\n",
              "\n",
              "#sk-container-id-1 div.sk-toggleable__content pre {\n",
              "  margin: 0.2em;\n",
              "  border-radius: 0.25em;\n",
              "  color: var(--sklearn-color-text);\n",
              "  /* unfitted */\n",
              "  background-color: var(--sklearn-color-unfitted-level-0);\n",
              "}\n",
              "\n",
              "#sk-container-id-1 div.sk-toggleable__content.fitted pre {\n",
              "  /* unfitted */\n",
              "  background-color: var(--sklearn-color-fitted-level-0);\n",
              "}\n",
              "\n",
              "#sk-container-id-1 input.sk-toggleable__control:checked~div.sk-toggleable__content {\n",
              "  /* Expand drop-down */\n",
              "  max-height: 200px;\n",
              "  max-width: 100%;\n",
              "  overflow: auto;\n",
              "}\n",
              "\n",
              "#sk-container-id-1 input.sk-toggleable__control:checked~label.sk-toggleable__label-arrow:before {\n",
              "  content: \"▾\";\n",
              "}\n",
              "\n",
              "/* Pipeline/ColumnTransformer-specific style */\n",
              "\n",
              "#sk-container-id-1 div.sk-label input.sk-toggleable__control:checked~label.sk-toggleable__label {\n",
              "  color: var(--sklearn-color-text);\n",
              "  background-color: var(--sklearn-color-unfitted-level-2);\n",
              "}\n",
              "\n",
              "#sk-container-id-1 div.sk-label.fitted input.sk-toggleable__control:checked~label.sk-toggleable__label {\n",
              "  background-color: var(--sklearn-color-fitted-level-2);\n",
              "}\n",
              "\n",
              "/* Estimator-specific style */\n",
              "\n",
              "/* Colorize estimator box */\n",
              "#sk-container-id-1 div.sk-estimator input.sk-toggleable__control:checked~label.sk-toggleable__label {\n",
              "  /* unfitted */\n",
              "  background-color: var(--sklearn-color-unfitted-level-2);\n",
              "}\n",
              "\n",
              "#sk-container-id-1 div.sk-estimator.fitted input.sk-toggleable__control:checked~label.sk-toggleable__label {\n",
              "  /* fitted */\n",
              "  background-color: var(--sklearn-color-fitted-level-2);\n",
              "}\n",
              "\n",
              "#sk-container-id-1 div.sk-label label.sk-toggleable__label,\n",
              "#sk-container-id-1 div.sk-label label {\n",
              "  /* The background is the default theme color */\n",
              "  color: var(--sklearn-color-text-on-default-background);\n",
              "}\n",
              "\n",
              "/* On hover, darken the color of the background */\n",
              "#sk-container-id-1 div.sk-label:hover label.sk-toggleable__label {\n",
              "  color: var(--sklearn-color-text);\n",
              "  background-color: var(--sklearn-color-unfitted-level-2);\n",
              "}\n",
              "\n",
              "/* Label box, darken color on hover, fitted */\n",
              "#sk-container-id-1 div.sk-label.fitted:hover label.sk-toggleable__label.fitted {\n",
              "  color: var(--sklearn-color-text);\n",
              "  background-color: var(--sklearn-color-fitted-level-2);\n",
              "}\n",
              "\n",
              "/* Estimator label */\n",
              "\n",
              "#sk-container-id-1 div.sk-label label {\n",
              "  font-family: monospace;\n",
              "  font-weight: bold;\n",
              "  display: inline-block;\n",
              "  line-height: 1.2em;\n",
              "}\n",
              "\n",
              "#sk-container-id-1 div.sk-label-container {\n",
              "  text-align: center;\n",
              "}\n",
              "\n",
              "/* Estimator-specific */\n",
              "#sk-container-id-1 div.sk-estimator {\n",
              "  font-family: monospace;\n",
              "  border: 1px dotted var(--sklearn-color-border-box);\n",
              "  border-radius: 0.25em;\n",
              "  box-sizing: border-box;\n",
              "  margin-bottom: 0.5em;\n",
              "  /* unfitted */\n",
              "  background-color: var(--sklearn-color-unfitted-level-0);\n",
              "}\n",
              "\n",
              "#sk-container-id-1 div.sk-estimator.fitted {\n",
              "  /* fitted */\n",
              "  background-color: var(--sklearn-color-fitted-level-0);\n",
              "}\n",
              "\n",
              "/* on hover */\n",
              "#sk-container-id-1 div.sk-estimator:hover {\n",
              "  /* unfitted */\n",
              "  background-color: var(--sklearn-color-unfitted-level-2);\n",
              "}\n",
              "\n",
              "#sk-container-id-1 div.sk-estimator.fitted:hover {\n",
              "  /* fitted */\n",
              "  background-color: var(--sklearn-color-fitted-level-2);\n",
              "}\n",
              "\n",
              "/* Specification for estimator info (e.g. \"i\" and \"?\") */\n",
              "\n",
              "/* Common style for \"i\" and \"?\" */\n",
              "\n",
              ".sk-estimator-doc-link,\n",
              "a:link.sk-estimator-doc-link,\n",
              "a:visited.sk-estimator-doc-link {\n",
              "  float: right;\n",
              "  font-size: smaller;\n",
              "  line-height: 1em;\n",
              "  font-family: monospace;\n",
              "  background-color: var(--sklearn-color-background);\n",
              "  border-radius: 1em;\n",
              "  height: 1em;\n",
              "  width: 1em;\n",
              "  text-decoration: none !important;\n",
              "  margin-left: 0.5em;\n",
              "  text-align: center;\n",
              "  /* unfitted */\n",
              "  border: var(--sklearn-color-unfitted-level-1) 1pt solid;\n",
              "  color: var(--sklearn-color-unfitted-level-1);\n",
              "}\n",
              "\n",
              ".sk-estimator-doc-link.fitted,\n",
              "a:link.sk-estimator-doc-link.fitted,\n",
              "a:visited.sk-estimator-doc-link.fitted {\n",
              "  /* fitted */\n",
              "  border: var(--sklearn-color-fitted-level-1) 1pt solid;\n",
              "  color: var(--sklearn-color-fitted-level-1);\n",
              "}\n",
              "\n",
              "/* On hover */\n",
              "div.sk-estimator:hover .sk-estimator-doc-link:hover,\n",
              ".sk-estimator-doc-link:hover,\n",
              "div.sk-label-container:hover .sk-estimator-doc-link:hover,\n",
              ".sk-estimator-doc-link:hover {\n",
              "  /* unfitted */\n",
              "  background-color: var(--sklearn-color-unfitted-level-3);\n",
              "  color: var(--sklearn-color-background);\n",
              "  text-decoration: none;\n",
              "}\n",
              "\n",
              "div.sk-estimator.fitted:hover .sk-estimator-doc-link.fitted:hover,\n",
              ".sk-estimator-doc-link.fitted:hover,\n",
              "div.sk-label-container:hover .sk-estimator-doc-link.fitted:hover,\n",
              ".sk-estimator-doc-link.fitted:hover {\n",
              "  /* fitted */\n",
              "  background-color: var(--sklearn-color-fitted-level-3);\n",
              "  color: var(--sklearn-color-background);\n",
              "  text-decoration: none;\n",
              "}\n",
              "\n",
              "/* Span, style for the box shown on hovering the info icon */\n",
              ".sk-estimator-doc-link span {\n",
              "  display: none;\n",
              "  z-index: 9999;\n",
              "  position: relative;\n",
              "  font-weight: normal;\n",
              "  right: .2ex;\n",
              "  padding: .5ex;\n",
              "  margin: .5ex;\n",
              "  width: min-content;\n",
              "  min-width: 20ex;\n",
              "  max-width: 50ex;\n",
              "  color: var(--sklearn-color-text);\n",
              "  box-shadow: 2pt 2pt 4pt #999;\n",
              "  /* unfitted */\n",
              "  background: var(--sklearn-color-unfitted-level-0);\n",
              "  border: .5pt solid var(--sklearn-color-unfitted-level-3);\n",
              "}\n",
              "\n",
              ".sk-estimator-doc-link.fitted span {\n",
              "  /* fitted */\n",
              "  background: var(--sklearn-color-fitted-level-0);\n",
              "  border: var(--sklearn-color-fitted-level-3);\n",
              "}\n",
              "\n",
              ".sk-estimator-doc-link:hover span {\n",
              "  display: block;\n",
              "}\n",
              "\n",
              "/* \"?\"-specific style due to the `<a>` HTML tag */\n",
              "\n",
              "#sk-container-id-1 a.estimator_doc_link {\n",
              "  float: right;\n",
              "  font-size: 1rem;\n",
              "  line-height: 1em;\n",
              "  font-family: monospace;\n",
              "  background-color: var(--sklearn-color-background);\n",
              "  border-radius: 1rem;\n",
              "  height: 1rem;\n",
              "  width: 1rem;\n",
              "  text-decoration: none;\n",
              "  /* unfitted */\n",
              "  color: var(--sklearn-color-unfitted-level-1);\n",
              "  border: var(--sklearn-color-unfitted-level-1) 1pt solid;\n",
              "}\n",
              "\n",
              "#sk-container-id-1 a.estimator_doc_link.fitted {\n",
              "  /* fitted */\n",
              "  border: var(--sklearn-color-fitted-level-1) 1pt solid;\n",
              "  color: var(--sklearn-color-fitted-level-1);\n",
              "}\n",
              "\n",
              "/* On hover */\n",
              "#sk-container-id-1 a.estimator_doc_link:hover {\n",
              "  /* unfitted */\n",
              "  background-color: var(--sklearn-color-unfitted-level-3);\n",
              "  color: var(--sklearn-color-background);\n",
              "  text-decoration: none;\n",
              "}\n",
              "\n",
              "#sk-container-id-1 a.estimator_doc_link.fitted:hover {\n",
              "  /* fitted */\n",
              "  background-color: var(--sklearn-color-fitted-level-3);\n",
              "}\n",
              "</style><div id=\"sk-container-id-1\" class=\"sk-top-container\"><div class=\"sk-text-repr-fallback\"><pre>LogisticRegression()</pre><b>In a Jupyter environment, please rerun this cell to show the HTML representation or trust the notebook. <br />On GitHub, the HTML representation is unable to render, please try loading this page with nbviewer.org.</b></div><div class=\"sk-container\" hidden><div class=\"sk-item\"><div class=\"sk-estimator fitted sk-toggleable\"><input class=\"sk-toggleable__control sk-hidden--visually\" id=\"sk-estimator-id-1\" type=\"checkbox\" checked><label for=\"sk-estimator-id-1\" class=\"sk-toggleable__label fitted sk-toggleable__label-arrow\"><div><div>LogisticRegression</div></div><div><a class=\"sk-estimator-doc-link fitted\" rel=\"noreferrer\" target=\"_blank\" href=\"https://scikit-learn.org/1.6/modules/generated/sklearn.linear_model.LogisticRegression.html\">?<span>Documentation for LogisticRegression</span></a><span class=\"sk-estimator-doc-link fitted\">i<span>Fitted</span></span></div></label><div class=\"sk-toggleable__content fitted\"><pre>LogisticRegression()</pre></div> </div></div></div></div>"
            ]
          },
          "metadata": {},
          "execution_count": 69
        }
      ]
    },
    {
      "cell_type": "markdown",
      "source": [
        "Evauation\n",
        "\n",
        "accuracy score"
      ],
      "metadata": {
        "id": "oJovBx-xVNLt"
      }
    },
    {
      "cell_type": "code",
      "source": [
        "#accuracy score on the training data\n",
        "x_train_prediction = model.predict(x_train)\n",
        "training_data_accuracy = accuracy_score(x_train_prediction,y_train)"
      ],
      "metadata": {
        "id": "zlGFhwQzVRM1"
      },
      "execution_count": null,
      "outputs": []
    },
    {
      "cell_type": "code",
      "source": [
        "print('Accuracy score of the training data :' ,training_data_accuracy)"
      ],
      "metadata": {
        "colab": {
          "base_uri": "https://localhost:8080/"
        },
        "id": "oJNUVfP8VtjV",
        "outputId": "c0379e44-3f82-4305-ad53-1795701770a1"
      },
      "execution_count": null,
      "outputs": [
        {
          "output_type": "stream",
          "name": "stdout",
          "text": [
            "Accuracy score of the training data : 0.9782397513114436\n"
          ]
        }
      ]
    },
    {
      "cell_type": "code",
      "source": [
        "#accuracy score on the testing data\n",
        "x_test_prediction = model.predict(x_test)\n",
        "test_data_accuracy = accuracy_score(x_test_prediction,y_test)"
      ],
      "metadata": {
        "id": "WV-mn26RWI5u"
      },
      "execution_count": null,
      "outputs": []
    },
    {
      "cell_type": "markdown",
      "source": [
        "Make a Predictive System"
      ],
      "metadata": {
        "id": "dhx5SXLpWU0S"
      }
    },
    {
      "cell_type": "code",
      "source": [
        "x_news=x_test[0]\n",
        "prediction = model.predict(x_news)\n",
        "print(prediction)\n",
        "\n",
        "if (prediction[0]==0):\n",
        "  print('The news is Real')\n",
        "else:\n",
        "  print('The news is Fake')"
      ],
      "metadata": {
        "colab": {
          "base_uri": "https://localhost:8080/"
        },
        "id": "AEcdfv5xWZug",
        "outputId": "f4e0804a-e3d5-44e0-bbbe-d1eed61a953f"
      },
      "execution_count": null,
      "outputs": [
        {
          "output_type": "stream",
          "name": "stdout",
          "text": [
            "[0]\n",
            "The news is Real\n"
          ]
        }
      ]
    },
    {
      "cell_type": "code",
      "source": [
        "print(y_test[0])"
      ],
      "metadata": {
        "colab": {
          "base_uri": "https://localhost:8080/"
        },
        "id": "kUK5xRtwWtfv",
        "outputId": "2838865f-7bb6-472c-d669-98bbf4e873d4"
      },
      "execution_count": null,
      "outputs": [
        {
          "output_type": "stream",
          "name": "stdout",
          "text": [
            "0\n"
          ]
        }
      ]
    }
  ]
}